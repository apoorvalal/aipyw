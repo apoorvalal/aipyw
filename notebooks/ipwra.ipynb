{
 "cells": [
  {
   "cell_type": "markdown",
   "metadata": {},
   "source": [
    "## IPW with Regression Adjustment"
   ]
  },
  {
   "cell_type": "code",
   "execution_count": 1,
   "metadata": {},
   "outputs": [],
   "source": [
    "import numpy as np\n",
    "import pandas as pd\n",
    "import scipy\n",
    "from aipyw import IpwRa"
   ]
  },
  {
   "cell_type": "code",
   "execution_count": 2,
   "metadata": {},
   "outputs": [],
   "source": [
    "def binary_dgp(n, k, pscore_fn, tau_fn, outcome_fn, k_cat=1):\n",
    "    Sigma = np.random.uniform(-1, 1, (k, k))\n",
    "    Sigma = Sigma @ Sigma.T\n",
    "    Xnum = np.random.multivariate_normal(np.zeros(k), Sigma, n)\n",
    "    # generate categorical variables\n",
    "    Xcat = np.random.binomial(1, 0.5, (n, k_cat))\n",
    "    X = np.c_[Xnum, Xcat]\n",
    "    W = np.random.binomial(1, pscore_fn(X), n).astype(int)\n",
    "    Y = outcome_fn(X, W, tau_fn)\n",
    "    df = pd.DataFrame(\n",
    "        np.c_[Y, W, X], columns=[\"Y\", \"W\"] + [f\"X{i}\" for i in range(k + 1)]\n",
    "    )\n",
    "    return df"
   ]
  },
  {
   "cell_type": "code",
   "execution_count": 3,
   "metadata": {},
   "outputs": [
    {
     "data": {
      "text/html": [
       "<div>\n",
       "<style scoped>\n",
       "    .dataframe tbody tr th:only-of-type {\n",
       "        vertical-align: middle;\n",
       "    }\n",
       "\n",
       "    .dataframe tbody tr th {\n",
       "        vertical-align: top;\n",
       "    }\n",
       "\n",
       "    .dataframe thead th {\n",
       "        text-align: right;\n",
       "    }\n",
       "</style>\n",
       "<table border=\"1\" class=\"dataframe\">\n",
       "  <thead>\n",
       "    <tr style=\"text-align: right;\">\n",
       "      <th></th>\n",
       "      <th>Y</th>\n",
       "      <th>W</th>\n",
       "      <th>X0</th>\n",
       "      <th>X1</th>\n",
       "      <th>X2</th>\n",
       "      <th>X3</th>\n",
       "      <th>X4</th>\n",
       "    </tr>\n",
       "  </thead>\n",
       "  <tbody>\n",
       "    <tr>\n",
       "      <th>0</th>\n",
       "      <td>1.302749</td>\n",
       "      <td>0.0</td>\n",
       "      <td>-0.874835</td>\n",
       "      <td>0.644566</td>\n",
       "      <td>-0.801552</td>\n",
       "      <td>-0.656742</td>\n",
       "      <td>1.0</td>\n",
       "    </tr>\n",
       "    <tr>\n",
       "      <th>1</th>\n",
       "      <td>1.936335</td>\n",
       "      <td>0.0</td>\n",
       "      <td>0.801376</td>\n",
       "      <td>0.974530</td>\n",
       "      <td>-0.767204</td>\n",
       "      <td>0.564353</td>\n",
       "      <td>0.0</td>\n",
       "    </tr>\n",
       "    <tr>\n",
       "      <th>2</th>\n",
       "      <td>5.655286</td>\n",
       "      <td>1.0</td>\n",
       "      <td>0.483897</td>\n",
       "      <td>1.063274</td>\n",
       "      <td>-1.155463</td>\n",
       "      <td>0.630855</td>\n",
       "      <td>1.0</td>\n",
       "    </tr>\n",
       "    <tr>\n",
       "      <th>3</th>\n",
       "      <td>-3.287480</td>\n",
       "      <td>0.0</td>\n",
       "      <td>-0.266067</td>\n",
       "      <td>-2.103778</td>\n",
       "      <td>1.650526</td>\n",
       "      <td>0.614969</td>\n",
       "      <td>1.0</td>\n",
       "    </tr>\n",
       "    <tr>\n",
       "      <th>4</th>\n",
       "      <td>-0.930136</td>\n",
       "      <td>1.0</td>\n",
       "      <td>0.395542</td>\n",
       "      <td>0.242585</td>\n",
       "      <td>1.072401</td>\n",
       "      <td>-1.390246</td>\n",
       "      <td>1.0</td>\n",
       "    </tr>\n",
       "  </tbody>\n",
       "</table>\n",
       "</div>"
      ],
      "text/plain": [
       "          Y    W        X0        X1        X2        X3   X4\n",
       "0  1.302749  0.0 -0.874835  0.644566 -0.801552 -0.656742  1.0\n",
       "1  1.936335  0.0  0.801376  0.974530 -0.767204  0.564353  0.0\n",
       "2  5.655286  1.0  0.483897  1.063274 -1.155463  0.630855  1.0\n",
       "3 -3.287480  0.0 -0.266067 -2.103778  1.650526  0.614969  1.0\n",
       "4 -0.930136  1.0  0.395542  0.242585  1.072401 -1.390246  1.0"
      ]
     },
     "execution_count": 3,
     "metadata": {},
     "output_type": "execute_result"
    }
   ],
   "source": [
    "def outcome_fn(x, w, taufn):\n",
    "    base_term = x[:, 0] + 2 * x[:, 1] + x[:, 3]\n",
    "    return taufn(x) * w + base_term + np.random.normal(0, 1, len(w))\n",
    "\n",
    "\n",
    "def pscore_fn(x):\n",
    "    lin = x[:, 0] - x[:, 1] - x[:, 2] + x[:, 3] + np.random.normal(0, 1, x.shape[0])\n",
    "    return scipy.special.expit(lin)\n",
    "\n",
    "\n",
    "df = binary_dgp(n = 10_000, k = 4, tau_fn = lambda x: 1,\n",
    "    pscore_fn = pscore_fn, outcome_fn = outcome_fn)\n",
    "df.head()"
   ]
  },
  {
   "cell_type": "markdown",
   "metadata": {},
   "source": [
    "## estimators"
   ]
  },
  {
   "cell_type": "markdown",
   "metadata": {},
   "source": [
    "#### Regression adjustment"
   ]
  },
  {
   "cell_type": "code",
   "execution_count": 4,
   "metadata": {},
   "outputs": [
    {
     "data": {
      "text/plain": [
       "{'est': 1.037, '95.0% CI (Bootstrap)': array([0.9893, 1.0783])}"
      ]
     },
     "execution_count": 4,
     "metadata": {},
     "output_type": "execute_result"
    }
   ],
   "source": [
    "m = IpwRa(typ='ra')\n",
    "m.fit(df)\n",
    "m.summary()"
   ]
  },
  {
   "cell_type": "markdown",
   "metadata": {},
   "source": [
    "#### IPW"
   ]
  },
  {
   "cell_type": "code",
   "execution_count": 5,
   "metadata": {},
   "outputs": [
    {
     "data": {
      "text/plain": [
       "{'est': 1.0103, '95.0% CI (Bootstrap)': array([0.9602, 1.0747])}"
      ]
     },
     "execution_count": 5,
     "metadata": {},
     "output_type": "execute_result"
    }
   ],
   "source": [
    "m = IpwRa(typ='ipw')\n",
    "m.fit(df)\n",
    "m.summary()"
   ]
  },
  {
   "cell_type": "markdown",
   "metadata": {},
   "source": [
    "#### IPW"
   ]
  },
  {
   "cell_type": "code",
   "execution_count": 6,
   "metadata": {},
   "outputs": [
    {
     "data": {
      "text/plain": [
       "{'est': 1.0097, '95.0% CI (Bootstrap)': array([0.962 , 1.0526])}"
      ]
     },
     "execution_count": 6,
     "metadata": {},
     "output_type": "execute_result"
    }
   ],
   "source": [
    "m = IpwRa(typ='ipwra')\n",
    "m.fit(df)\n",
    "m.summary()"
   ]
  }
 ],
 "metadata": {
  "kernelspec": {
   "display_name": "metrics",
   "language": "python",
   "name": "python3"
  },
  "language_info": {
   "codemirror_mode": {
    "name": "ipython",
    "version": 3
   },
   "file_extension": ".py",
   "mimetype": "text/x-python",
   "name": "python",
   "nbconvert_exporter": "python",
   "pygments_lexer": "ipython3",
   "version": "3.12.6"
  }
 },
 "nbformat": 4,
 "nbformat_minor": 2
}
