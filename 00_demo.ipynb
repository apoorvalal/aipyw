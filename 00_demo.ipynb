{
 "cells": [
  {
   "cell_type": "code",
   "execution_count": 1,
   "metadata": {},
   "outputs": [],
   "source": [
    "import numpy as np\n",
    "import sklearn\n",
    "import sklearn.pipeline as skpipe\n",
    "# learners\n",
    "import celer as cel\n",
    "from lightgbm import LGBMClassifier, LGBMRegressor\n",
    "\n",
    "# this module\n",
    "from aipyw import AIPyW\n",
    "from aipyw.dgp import dgp_binary, dgp_discrete, hainmueller\n",
    "\n",
    "np.random.seed(42)"
   ]
  },
  {
   "cell_type": "code",
   "execution_count": 2,
   "metadata": {},
   "outputs": [],
   "source": [
    "import matplotlib.pyplot as plt\n",
    "import seaborn as sns"
   ]
  },
  {
   "cell_type": "markdown",
   "metadata": {},
   "source": [
    "# Basic Demo\n"
   ]
  },
  {
   "cell_type": "markdown",
   "metadata": {},
   "source": [
    "## Discrete Treatments"
   ]
  },
  {
   "cell_type": "code",
   "execution_count": 3,
   "metadata": {},
   "outputs": [
    {
     "data": {
      "text/plain": [
       "((100000,), (100000,), (100000, 10))"
      ]
     },
     "execution_count": 3,
     "metadata": {},
     "output_type": "execute_result"
    }
   ],
   "source": [
    "Y, D, X = dgp_discrete(\n",
    "    n=100_000,\n",
    "    p=4,\n",
    "    treat_effects=np.array([0.0, 0.4, 0.5, 0.55]),\n",
    ")\n",
    "Y.shape, D.shape, X.shape"
   ]
  },
  {
   "cell_type": "code",
   "execution_count": 4,
   "metadata": {},
   "outputs": [
    {
     "data": {
      "text/plain": [
       "(np.float64(-2.459176579755844),\n",
       " np.float64(0.9312130397763212),\n",
       " np.float64(2.8166707333716685))"
      ]
     },
     "execution_count": 4,
     "metadata": {},
     "output_type": "execute_result"
    }
   ],
   "source": [
    "(Y[D == 1,].mean() - Y[D == 0,].mean(),\n",
    "  Y[D == 2,].mean() - Y[D == 0,].mean(),\n",
    "  Y[D == 3,].mean() - Y[D == 0,].mean()\n",
    ")"
   ]
  },
  {
   "cell_type": "markdown",
   "metadata": {},
   "source": [
    "Naive estimates badly biased."
   ]
  },
  {
   "cell_type": "code",
   "execution_count": 5,
   "metadata": {},
   "outputs": [
    {
     "name": "stdout",
     "output_type": "stream",
     "text": [
      "CPU times: user 59 s, sys: 217 ms, total: 59.3 s\n",
      "Wall time: 3.92 s\n"
     ]
    },
    {
     "data": {
      "text/plain": [
       "{'1 vs 0': {'effect': np.float64(0.3440241782297518),\n",
       "  'se': np.float64(0.00031759006244523954)},\n",
       " '2 vs 0': {'effect': np.float64(0.43320743886748597),\n",
       "  'se': np.float64(0.00032485666524239936)},\n",
       " '3 vs 0': {'effect': np.float64(0.47547790412244395),\n",
       "  'se': np.float64(0.0003325522904819936)},\n",
       " '2 vs 1': {'effect': np.float64(0.08918326063773419),\n",
       "  'se': np.float64(0.00024092384230735961)},\n",
       " '3 vs 1': {'effect': np.float64(0.13145372589269216),\n",
       "  'se': np.float64(0.0002638624008049813)},\n",
       " '3 vs 2': {'effect': np.float64(0.042270465254957965),\n",
       "  'se': np.float64(0.0002683575335978814)}}"
      ]
     },
     "execution_count": 5,
     "metadata": {},
     "output_type": "execute_result"
    }
   ],
   "source": [
    "%%time\n",
    "doubledouble3 = AIPyW(riesz_method=\"linear\")\n",
    "doubledouble3.fit(X, D, Y)\n",
    "doubledouble3.summary()"
   ]
  },
  {
   "cell_type": "code",
   "execution_count": 6,
   "metadata": {},
   "outputs": [
    {
     "name": "stdout",
     "output_type": "stream",
     "text": [
      "CPU times: user 7.52 s, sys: 15.7 ms, total: 7.54 s\n",
      "Wall time: 532 ms\n"
     ]
    },
    {
     "data": {
      "text/plain": [
       "{'1 vs 0': {'effect': np.float64(0.3992624833348587),\n",
       "  'se': np.float64(1.1131571660979226e-05)},\n",
       " '2 vs 0': {'effect': np.float64(0.4999967519495474),\n",
       "  'se': np.float64(1.2429734209405745e-05)},\n",
       " '3 vs 0': {'effect': np.float64(0.55194785160569),\n",
       "  'se': np.float64(1.3086491593015786e-05)},\n",
       " '2 vs 1': {'effect': np.float64(0.10073426861468866),\n",
       "  'se': np.float64(1.26949544159626e-05)},\n",
       " '3 vs 1': {'effect': np.float64(0.15268536827083137),\n",
       "  'se': np.float64(1.13142418777214e-05)},\n",
       " '3 vs 2': {'effect': np.float64(0.05195109965614269),\n",
       "  'se': np.float64(1.3205131515576768e-05)}}"
      ]
     },
     "execution_count": 6,
     "metadata": {},
     "output_type": "execute_result"
    }
   ],
   "source": [
    "%%time\n",
    "doubledouble3 = AIPyW(riesz_method=\"balancing\", bal_obj=\"quadratic\")\n",
    "doubledouble3.fit(X, D, Y)\n",
    "doubledouble3.summary()"
   ]
  },
  {
   "cell_type": "markdown",
   "metadata": {},
   "source": [
    "## Hainmueller (2012) Simulation study\n",
    "\n",
    "Binary treatment, continuous outcome, 2 groups. We parametrize degree of overlap, functional form of outcome and treatment models. True effect is zero, so RMSE is easy to calculate."
   ]
  },
  {
   "cell_type": "code",
   "execution_count": 7,
   "metadata": {},
   "outputs": [],
   "source": [
    "def one_rep(n_samples, overlap_design, pscore_design, outcome_design, riesz_method, **kwargs):\n",
    "    # generate data\n",
    "    y, d, X = hainmueller(\n",
    "        n_samples=n_samples,\n",
    "        overlap_design=overlap_design,\n",
    "        pscore_design=pscore_design,\n",
    "        outcome_design=outcome_design,\n",
    "    )\n",
    "    m1, m2 = LGBMRegressor(verbose=-1, n_jobs=1), LGBMClassifier(verbose=-1, n_jobs=1)\n",
    "    # model instantiation\n",
    "    aipw = AIPyW(propensity_model=m2, outcome_model=m1, riesz_method=riesz_method, **kwargs)\n",
    "    aipw.fit(X, d, y, n_rff=100)\n",
    "    return aipw.summary()[\"1 vs 0\"][\"effect\"]"
   ]
  },
  {
   "cell_type": "markdown",
   "metadata": {},
   "source": [
    "Favorable case: good overlap, linear pscore and outcome"
   ]
  },
  {
   "cell_type": "code",
   "execution_count": 8,
   "metadata": {},
   "outputs": [
    {
     "name": "stdout",
     "output_type": "stream",
     "text": [
      "CPU times: user 1.62 s, sys: 0 ns, total: 1.62 s\n",
      "Wall time: 519 ms\n"
     ]
    },
    {
     "data": {
      "text/plain": [
       "np.float64(-0.0033346200181945534)"
      ]
     },
     "execution_count": 8,
     "metadata": {},
     "output_type": "execute_result"
    }
   ],
   "source": [
    "%%time\n",
    "one_rep(10_000, 2, 1, 1, \"ipw\")"
   ]
  },
  {
   "cell_type": "code",
   "execution_count": 9,
   "metadata": {},
   "outputs": [
    {
     "name": "stdout",
     "output_type": "stream",
     "text": [
      "CPU times: user 601 ms, sys: 7.79 ms, total: 609 ms\n",
      "Wall time: 337 ms\n"
     ]
    },
    {
     "data": {
      "text/plain": [
       "np.float64(0.006689004288240835)"
      ]
     },
     "execution_count": 9,
     "metadata": {},
     "output_type": "execute_result"
    }
   ],
   "source": [
    "%%time\n",
    "one_rep(10_000, 2, 1, 1, \"linear\")"
   ]
  },
  {
   "cell_type": "code",
   "execution_count": 10,
   "metadata": {},
   "outputs": [
    {
     "name": "stdout",
     "output_type": "stream",
     "text": [
      "CPU times: user 23.5 s, sys: 20.1 ms, total: 23.5 s\n",
      "Wall time: 1.8 s\n"
     ]
    },
    {
     "data": {
      "text/plain": [
       "np.float64(-0.0032402673454760135)"
      ]
     },
     "execution_count": 10,
     "metadata": {},
     "output_type": "execute_result"
    }
   ],
   "source": [
    "%%time\n",
    "one_rep(10_000, 2, 1, 1, \"kernel\")"
   ]
  },
  {
   "cell_type": "code",
   "execution_count": 11,
   "metadata": {},
   "outputs": [
    {
     "name": "stdout",
     "output_type": "stream",
     "text": [
      "CPU times: user 1.68 s, sys: 7.81 ms, total: 1.69 s\n",
      "Wall time: 401 ms\n"
     ]
    },
    {
     "data": {
      "text/plain": [
       "np.float64(0.028061806731204706)"
      ]
     },
     "execution_count": 11,
     "metadata": {},
     "output_type": "execute_result"
    }
   ],
   "source": [
    "%%time\n",
    "one_rep(10_000, 2, 1, 1, \"balancing\")"
   ]
  },
  {
   "cell_type": "markdown",
   "metadata": {},
   "source": [
    "### Hard case: poor overlap, non-linear pscore and outcome"
   ]
  },
  {
   "cell_type": "code",
   "execution_count": 12,
   "metadata": {},
   "outputs": [
    {
     "name": "stdout",
     "output_type": "stream",
     "text": [
      "CPU times: user 403 ms, sys: 3.99 ms, total: 407 ms\n",
      "Wall time: 406 ms\n"
     ]
    },
    {
     "data": {
      "text/plain": [
       "np.float64(1.3048733100150471)"
      ]
     },
     "execution_count": 12,
     "metadata": {},
     "output_type": "execute_result"
    }
   ],
   "source": [
    "%%time\n",
    "one_rep(10_000, 1, 3, 3, \"ipw\")"
   ]
  },
  {
   "cell_type": "code",
   "execution_count": 13,
   "metadata": {},
   "outputs": [
    {
     "name": "stdout",
     "output_type": "stream",
     "text": [
      "CPU times: user 558 ms, sys: 7.84 ms, total: 566 ms\n",
      "Wall time: 317 ms\n"
     ]
    },
    {
     "data": {
      "text/plain": [
       "np.float64(-0.16985757185669997)"
      ]
     },
     "execution_count": 13,
     "metadata": {},
     "output_type": "execute_result"
    }
   ],
   "source": [
    "%%time\n",
    "one_rep(10_000, 1, 3, 3, \"linear\")"
   ]
  },
  {
   "cell_type": "code",
   "execution_count": 14,
   "metadata": {},
   "outputs": [
    {
     "name": "stdout",
     "output_type": "stream",
     "text": [
      "CPU times: user 20.8 s, sys: 16.2 ms, total: 20.9 s\n",
      "Wall time: 1.64 s\n"
     ]
    },
    {
     "data": {
      "text/plain": [
       "np.float64(-0.29089672973480046)"
      ]
     },
     "execution_count": 14,
     "metadata": {},
     "output_type": "execute_result"
    }
   ],
   "source": [
    "%%time\n",
    "one_rep(10_000, 1, 3, 3, \"kernel\")"
   ]
  },
  {
   "cell_type": "code",
   "execution_count": 17,
   "metadata": {},
   "outputs": [
    {
     "name": "stdout",
     "output_type": "stream",
     "text": [
      "CPU times: user 283 ms, sys: 12 ms, total: 295 ms\n",
      "Wall time: 295 ms\n"
     ]
    },
    {
     "data": {
      "text/plain": [
       "np.float64(-5.099867468024708)"
      ]
     },
     "execution_count": 17,
     "metadata": {},
     "output_type": "execute_result"
    }
   ],
   "source": [
    "%%time\n",
    "one_rep(10_000, 1, 3, 3, \"balancing\", bal_obj=\"entropy\")"
   ]
  },
  {
   "cell_type": "markdown",
   "metadata": {},
   "source": [
    "### all together"
   ]
  },
  {
   "cell_type": "code",
   "execution_count": 14,
   "metadata": {},
   "outputs": [],
   "source": [
    "from joblib import Parallel, delayed\n",
    "\n",
    "def compute_ate_rmse_parallel(\n",
    "    n_samples,\n",
    "    overlap_design,\n",
    "    pscore_design,\n",
    "    outcome_design,\n",
    "    riesz_method,\n",
    "    n_replications=100,\n",
    "    n_jobs=-1,\n",
    "):\n",
    "    ate_estimates = Parallel(n_jobs=n_jobs)(\n",
    "        delayed(one_rep)(\n",
    "            n_samples, overlap_design, pscore_design, outcome_design, riesz_method\n",
    "        )\n",
    "        for _ in range(n_replications)\n",
    "    )\n",
    "    # Compute RMSE\n",
    "    true_ate = 0\n",
    "    rmse = np.sqrt(np.mean((np.array(ate_estimates) - true_ate) ** 2))\n",
    "    return rmse"
   ]
  },
  {
   "cell_type": "code",
   "execution_count": 15,
   "metadata": {},
   "outputs": [],
   "source": [
    "from itertools import product\n",
    "params = np.arange(1, 4)\n",
    "param_list = list(product(params, params, params, ['ipw', 'linear', 'kernel']))\n",
    "res_dict = {}\n",
    "for param in param_list:\n",
    "  key = \"_\".join([str(x) for x in param])\n",
    "  res_dict[key] = compute_ate_rmse_parallel(10_000, *param)"
   ]
  },
  {
   "cell_type": "code",
   "execution_count": 37,
   "metadata": {},
   "outputs": [
    {
     "data": {
      "text/html": [
       "<div>\n",
       "<style scoped>\n",
       "    .dataframe tbody tr th:only-of-type {\n",
       "        vertical-align: middle;\n",
       "    }\n",
       "\n",
       "    .dataframe tbody tr th {\n",
       "        vertical-align: top;\n",
       "    }\n",
       "\n",
       "    .dataframe thead th {\n",
       "        text-align: right;\n",
       "    }\n",
       "</style>\n",
       "<table border=\"1\" class=\"dataframe\">\n",
       "  <thead>\n",
       "    <tr style=\"text-align: right;\">\n",
       "      <th></th>\n",
       "      <th>ipw</th>\n",
       "      <th>linear</th>\n",
       "      <th>kernel</th>\n",
       "      <th>overlap_design</th>\n",
       "      <th>pscore_design</th>\n",
       "      <th>outcome_design</th>\n",
       "    </tr>\n",
       "  </thead>\n",
       "  <tbody>\n",
       "    <tr>\n",
       "      <th>0</th>\n",
       "      <td>0.137666</td>\n",
       "      <td>0.073477</td>\n",
       "      <td>0.037029</td>\n",
       "      <td>poor</td>\n",
       "      <td>linear</td>\n",
       "      <td>linear</td>\n",
       "    </tr>\n",
       "    <tr>\n",
       "      <th>1</th>\n",
       "      <td>0.155213</td>\n",
       "      <td>0.070990</td>\n",
       "      <td>0.031021</td>\n",
       "      <td>poor</td>\n",
       "      <td>linear</td>\n",
       "      <td>quad</td>\n",
       "    </tr>\n",
       "    <tr>\n",
       "      <th>2</th>\n",
       "      <td>17.547401</td>\n",
       "      <td>88.536906</td>\n",
       "      <td>20.961078</td>\n",
       "      <td>poor</td>\n",
       "      <td>linear</td>\n",
       "      <td>nl</td>\n",
       "    </tr>\n",
       "    <tr>\n",
       "      <th>3</th>\n",
       "      <td>0.110289</td>\n",
       "      <td>0.060276</td>\n",
       "      <td>0.039207</td>\n",
       "      <td>poor</td>\n",
       "      <td>quad</td>\n",
       "      <td>linear</td>\n",
       "    </tr>\n",
       "    <tr>\n",
       "      <th>4</th>\n",
       "      <td>0.113453</td>\n",
       "      <td>0.037330</td>\n",
       "      <td>0.022676</td>\n",
       "      <td>poor</td>\n",
       "      <td>quad</td>\n",
       "      <td>quad</td>\n",
       "    </tr>\n",
       "    <tr>\n",
       "      <th>5</th>\n",
       "      <td>58.048174</td>\n",
       "      <td>16.401004</td>\n",
       "      <td>8.909979</td>\n",
       "      <td>poor</td>\n",
       "      <td>quad</td>\n",
       "      <td>nl</td>\n",
       "    </tr>\n",
       "    <tr>\n",
       "      <th>6</th>\n",
       "      <td>0.026082</td>\n",
       "      <td>0.015245</td>\n",
       "      <td>0.012045</td>\n",
       "      <td>poor</td>\n",
       "      <td>trig</td>\n",
       "      <td>linear</td>\n",
       "    </tr>\n",
       "    <tr>\n",
       "      <th>7</th>\n",
       "      <td>0.023168</td>\n",
       "      <td>0.011092</td>\n",
       "      <td>0.012160</td>\n",
       "      <td>poor</td>\n",
       "      <td>trig</td>\n",
       "      <td>quad</td>\n",
       "    </tr>\n",
       "    <tr>\n",
       "      <th>8</th>\n",
       "      <td>15.719334</td>\n",
       "      <td>36.621279</td>\n",
       "      <td>7.649870</td>\n",
       "      <td>poor</td>\n",
       "      <td>trig</td>\n",
       "      <td>nl</td>\n",
       "    </tr>\n",
       "    <tr>\n",
       "      <th>9</th>\n",
       "      <td>0.047198</td>\n",
       "      <td>0.029076</td>\n",
       "      <td>0.016379</td>\n",
       "      <td>good</td>\n",
       "      <td>linear</td>\n",
       "      <td>linear</td>\n",
       "    </tr>\n",
       "    <tr>\n",
       "      <th>10</th>\n",
       "      <td>0.040885</td>\n",
       "      <td>0.024368</td>\n",
       "      <td>0.015791</td>\n",
       "      <td>good</td>\n",
       "      <td>linear</td>\n",
       "      <td>quad</td>\n",
       "    </tr>\n",
       "    <tr>\n",
       "      <th>11</th>\n",
       "      <td>10.079255</td>\n",
       "      <td>12.290054</td>\n",
       "      <td>14.149954</td>\n",
       "      <td>good</td>\n",
       "      <td>linear</td>\n",
       "      <td>nl</td>\n",
       "    </tr>\n",
       "    <tr>\n",
       "      <th>12</th>\n",
       "      <td>0.042242</td>\n",
       "      <td>0.029454</td>\n",
       "      <td>0.018560</td>\n",
       "      <td>good</td>\n",
       "      <td>quad</td>\n",
       "      <td>linear</td>\n",
       "    </tr>\n",
       "    <tr>\n",
       "      <th>13</th>\n",
       "      <td>0.036658</td>\n",
       "      <td>0.015706</td>\n",
       "      <td>0.013831</td>\n",
       "      <td>good</td>\n",
       "      <td>quad</td>\n",
       "      <td>quad</td>\n",
       "    </tr>\n",
       "    <tr>\n",
       "      <th>14</th>\n",
       "      <td>21.856819</td>\n",
       "      <td>61.284149</td>\n",
       "      <td>5.477291</td>\n",
       "      <td>good</td>\n",
       "      <td>quad</td>\n",
       "      <td>nl</td>\n",
       "    </tr>\n",
       "    <tr>\n",
       "      <th>15</th>\n",
       "      <td>0.025567</td>\n",
       "      <td>0.012309</td>\n",
       "      <td>0.013310</td>\n",
       "      <td>good</td>\n",
       "      <td>trig</td>\n",
       "      <td>linear</td>\n",
       "    </tr>\n",
       "    <tr>\n",
       "      <th>16</th>\n",
       "      <td>0.023660</td>\n",
       "      <td>0.012285</td>\n",
       "      <td>0.011389</td>\n",
       "      <td>good</td>\n",
       "      <td>trig</td>\n",
       "      <td>quad</td>\n",
       "    </tr>\n",
       "    <tr>\n",
       "      <th>17</th>\n",
       "      <td>7.299261</td>\n",
       "      <td>14.323288</td>\n",
       "      <td>9.113308</td>\n",
       "      <td>good</td>\n",
       "      <td>trig</td>\n",
       "      <td>nl</td>\n",
       "    </tr>\n",
       "    <tr>\n",
       "      <th>18</th>\n",
       "      <td>0.060368</td>\n",
       "      <td>0.045151</td>\n",
       "      <td>0.024889</td>\n",
       "      <td>medium</td>\n",
       "      <td>linear</td>\n",
       "      <td>linear</td>\n",
       "    </tr>\n",
       "    <tr>\n",
       "      <th>19</th>\n",
       "      <td>0.045900</td>\n",
       "      <td>0.056275</td>\n",
       "      <td>0.029500</td>\n",
       "      <td>medium</td>\n",
       "      <td>linear</td>\n",
       "      <td>quad</td>\n",
       "    </tr>\n",
       "    <tr>\n",
       "      <th>20</th>\n",
       "      <td>12.239445</td>\n",
       "      <td>44.131047</td>\n",
       "      <td>10.001812</td>\n",
       "      <td>medium</td>\n",
       "      <td>linear</td>\n",
       "      <td>nl</td>\n",
       "    </tr>\n",
       "    <tr>\n",
       "      <th>21</th>\n",
       "      <td>0.069155</td>\n",
       "      <td>0.051134</td>\n",
       "      <td>0.031517</td>\n",
       "      <td>medium</td>\n",
       "      <td>quad</td>\n",
       "      <td>linear</td>\n",
       "    </tr>\n",
       "    <tr>\n",
       "      <th>22</th>\n",
       "      <td>0.057000</td>\n",
       "      <td>0.034720</td>\n",
       "      <td>0.022862</td>\n",
       "      <td>medium</td>\n",
       "      <td>quad</td>\n",
       "      <td>quad</td>\n",
       "    </tr>\n",
       "    <tr>\n",
       "      <th>23</th>\n",
       "      <td>158.196631</td>\n",
       "      <td>47.355921</td>\n",
       "      <td>1510.026776</td>\n",
       "      <td>medium</td>\n",
       "      <td>quad</td>\n",
       "      <td>nl</td>\n",
       "    </tr>\n",
       "    <tr>\n",
       "      <th>24</th>\n",
       "      <td>0.027530</td>\n",
       "      <td>0.012885</td>\n",
       "      <td>0.013582</td>\n",
       "      <td>medium</td>\n",
       "      <td>trig</td>\n",
       "      <td>linear</td>\n",
       "    </tr>\n",
       "    <tr>\n",
       "      <th>25</th>\n",
       "      <td>0.026459</td>\n",
       "      <td>0.010747</td>\n",
       "      <td>0.011964</td>\n",
       "      <td>medium</td>\n",
       "      <td>trig</td>\n",
       "      <td>quad</td>\n",
       "    </tr>\n",
       "    <tr>\n",
       "      <th>26</th>\n",
       "      <td>124.950722</td>\n",
       "      <td>7.945201</td>\n",
       "      <td>17.885012</td>\n",
       "      <td>medium</td>\n",
       "      <td>trig</td>\n",
       "      <td>nl</td>\n",
       "    </tr>\n",
       "  </tbody>\n",
       "</table>\n",
       "</div>"
      ],
      "text/plain": [
       "           ipw     linear       kernel overlap_design pscore_design  \\\n",
       "0     0.137666   0.073477     0.037029           poor        linear   \n",
       "1     0.155213   0.070990     0.031021           poor        linear   \n",
       "2    17.547401  88.536906    20.961078           poor        linear   \n",
       "3     0.110289   0.060276     0.039207           poor          quad   \n",
       "4     0.113453   0.037330     0.022676           poor          quad   \n",
       "5    58.048174  16.401004     8.909979           poor          quad   \n",
       "6     0.026082   0.015245     0.012045           poor          trig   \n",
       "7     0.023168   0.011092     0.012160           poor          trig   \n",
       "8    15.719334  36.621279     7.649870           poor          trig   \n",
       "9     0.047198   0.029076     0.016379           good        linear   \n",
       "10    0.040885   0.024368     0.015791           good        linear   \n",
       "11   10.079255  12.290054    14.149954           good        linear   \n",
       "12    0.042242   0.029454     0.018560           good          quad   \n",
       "13    0.036658   0.015706     0.013831           good          quad   \n",
       "14   21.856819  61.284149     5.477291           good          quad   \n",
       "15    0.025567   0.012309     0.013310           good          trig   \n",
       "16    0.023660   0.012285     0.011389           good          trig   \n",
       "17    7.299261  14.323288     9.113308           good          trig   \n",
       "18    0.060368   0.045151     0.024889         medium        linear   \n",
       "19    0.045900   0.056275     0.029500         medium        linear   \n",
       "20   12.239445  44.131047    10.001812         medium        linear   \n",
       "21    0.069155   0.051134     0.031517         medium          quad   \n",
       "22    0.057000   0.034720     0.022862         medium          quad   \n",
       "23  158.196631  47.355921  1510.026776         medium          quad   \n",
       "24    0.027530   0.012885     0.013582         medium          trig   \n",
       "25    0.026459   0.010747     0.011964         medium          trig   \n",
       "26  124.950722   7.945201    17.885012         medium          trig   \n",
       "\n",
       "   outcome_design  \n",
       "0          linear  \n",
       "1            quad  \n",
       "2              nl  \n",
       "3          linear  \n",
       "4            quad  \n",
       "5              nl  \n",
       "6          linear  \n",
       "7            quad  \n",
       "8              nl  \n",
       "9          linear  \n",
       "10           quad  \n",
       "11             nl  \n",
       "12         linear  \n",
       "13           quad  \n",
       "14             nl  \n",
       "15         linear  \n",
       "16           quad  \n",
       "17             nl  \n",
       "18         linear  \n",
       "19           quad  \n",
       "20             nl  \n",
       "21         linear  \n",
       "22           quad  \n",
       "23             nl  \n",
       "24         linear  \n",
       "25           quad  \n",
       "26             nl  "
      ]
     },
     "execution_count": 37,
     "metadata": {},
     "output_type": "execute_result"
    }
   ],
   "source": [
    "import pandas as pd\n",
    "res_df = pd.DataFrame(\n",
    "[\n",
    "  list(product(['poor', 'good', 'medium'],\n",
    "               ['linear', 'quad', 'trig'],\n",
    "               ['linear', 'quad', 'nl'])),\n",
    "  [v for k, v in res_dict.items() if k.endswith(\"ipw\")],\n",
    "  [v for k, v in res_dict.items() if k.endswith(\"linear\")],\n",
    "  [v for k, v in res_dict.items() if k.endswith(\"kernel\")],\n",
    "],\n",
    ").T.infer_objects()\n",
    "res_df.columns = [\"design\", \"ipw\", \"linear\", \"kernel\"]\n",
    "# unpack design column\n",
    "res_df['overlap_design'] = res_df['design'].apply(lambda x: x[0])\n",
    "res_df['pscore_design'] = res_df['design'].apply(lambda x: x[1])\n",
    "res_df['outcome_design'] = res_df['design'].apply(lambda x: x[2])\n",
    "res_df.drop(columns=['design'], inplace=True)\n",
    "res_df"
   ]
  }
 ],
 "metadata": {
  "kernelspec": {
   "display_name": "py311",
   "language": "python",
   "name": "python3"
  },
  "language_info": {
   "codemirror_mode": {
    "name": "ipython",
    "version": 3
   },
   "file_extension": ".py",
   "mimetype": "text/x-python",
   "name": "python",
   "nbconvert_exporter": "python",
   "pygments_lexer": "ipython3",
   "version": "3.10.14"
  }
 },
 "nbformat": 4,
 "nbformat_minor": 4
}
