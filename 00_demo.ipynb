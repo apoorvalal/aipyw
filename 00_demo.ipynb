{
 "cells": [
  {
   "cell_type": "code",
   "execution_count": 1,
   "metadata": {},
   "outputs": [
    {
     "data": {
      "text/html": [
       "<style type='text/css'>\n",
       ".datatable table.frame { margin-bottom: 0; }\n",
       ".datatable table.frame thead { border-bottom: none; }\n",
       ".datatable table.frame tr.coltypes td {  color: #FFFFFF;  line-height: 6px;  padding: 0 0.5em;}\n",
       ".datatable .bool    { background: #DDDD99; }\n",
       ".datatable .object  { background: #565656; }\n",
       ".datatable .int     { background: #5D9E5D; }\n",
       ".datatable .float   { background: #4040CC; }\n",
       ".datatable .str     { background: #CC4040; }\n",
       ".datatable .time    { background: #40CC40; }\n",
       ".datatable .row_index {  background: var(--jp-border-color3);  border-right: 1px solid var(--jp-border-color0);  color: var(--jp-ui-font-color3);  font-size: 9px;}\n",
       ".datatable .frame tbody td { text-align: left; }\n",
       ".datatable .frame tr.coltypes .row_index {  background: var(--jp-border-color0);}\n",
       ".datatable th:nth-child(2) { padding-left: 12px; }\n",
       ".datatable .hellipsis {  color: var(--jp-cell-editor-border-color);}\n",
       ".datatable .vellipsis {  background: var(--jp-layout-color0);  color: var(--jp-cell-editor-border-color);}\n",
       ".datatable .na {  color: var(--jp-cell-editor-border-color);  font-size: 80%;}\n",
       ".datatable .sp {  opacity: 0.25;}\n",
       ".datatable .footer { font-size: 9px; }\n",
       ".datatable .frame_dimensions {  background: var(--jp-border-color3);  border-top: 1px solid var(--jp-border-color0);  color: var(--jp-ui-font-color3);  display: inline-block;  opacity: 0.6;  padding: 1px 10px 1px 5px;}\n",
       "</style>\n"
      ],
      "text/plain": [
       "<IPython.core.display.HTML object>"
      ]
     },
     "metadata": {},
     "output_type": "display_data"
    }
   ],
   "source": [
    "import numpy as np\n",
    "import sklearn\n",
    "import sklearn.pipeline as skpipe\n",
    "# learners\n",
    "import celer as cel\n",
    "from lightgbm import LGBMClassifier, LGBMRegressor\n",
    "\n",
    "# this module\n",
    "from aipyw import AIPyW\n",
    "from aipyw.dgp import dgp_binary, dgp_discrete, hainmueller\n",
    "\n",
    "np.random.seed(42)"
   ]
  },
  {
   "cell_type": "markdown",
   "metadata": {},
   "source": [
    "# Basic Demo\n"
   ]
  },
  {
   "cell_type": "markdown",
   "metadata": {},
   "source": [
    "## Discrete Treatments"
   ]
  },
  {
   "cell_type": "code",
   "execution_count": 4,
   "metadata": {},
   "outputs": [
    {
     "data": {
      "text/plain": [
       "((100000,), (100000,), (100000, 10))"
      ]
     },
     "execution_count": 4,
     "metadata": {},
     "output_type": "execute_result"
    }
   ],
   "source": [
    "true_effects = np.array([0.0, 0.4, 0.5, 0.55])\n",
    "Y, D, X = dgp_discrete(\n",
    "    n=100_000,\n",
    "    p=4,\n",
    "    treat_effects=true_effects,\n",
    ")\n",
    "Y.shape, D.shape, X.shape"
   ]
  },
  {
   "cell_type": "code",
   "execution_count": 3,
   "metadata": {},
   "outputs": [
    {
     "data": {
      "text/plain": [
       "(-2.459176579755844, 0.9312130397763212, 2.8166707333716685)"
      ]
     },
     "execution_count": 3,
     "metadata": {},
     "output_type": "execute_result"
    }
   ],
   "source": [
    "(Y[D == 1,].mean() - Y[D == 0,].mean(),\n",
    "  Y[D == 2,].mean() - Y[D == 0,].mean(),\n",
    "  Y[D == 3,].mean() - Y[D == 0,].mean()\n",
    ")"
   ]
  },
  {
   "cell_type": "markdown",
   "metadata": {},
   "source": [
    "Naive estimates badly biased."
   ]
  },
  {
   "cell_type": "code",
   "execution_count": 6,
   "metadata": {},
   "outputs": [
    {
     "name": "stdout",
     "output_type": "stream",
     "text": [
      "CPU times: user 1.98 s, sys: 2.74 s, total: 4.72 s\n",
      "Wall time: 334 ms\n"
     ]
    },
    {
     "data": {
      "text/plain": [
       "{'1 vs 0': {'effect': 0.3994630943262704, 'se': 1.3622589430481528e-05},\n",
       " '2 vs 0': {'effect': 0.5003776701426296, 'se': 1.4060143957220782e-05},\n",
       " '3 vs 0': {'effect': 0.5491231362790109, 'se': 1.3103465903159675e-05},\n",
       " '2 vs 1': {'effect': 0.10091457581635918, 'se': 1.541930994660243e-05},\n",
       " '3 vs 1': {'effect': 0.14966004195274035, 'se': 1.5486070939316562e-05},\n",
       " '3 vs 2': {'effect': 0.048745466136381144, 'se': 1.9273141207355643e-05}}"
      ]
     },
     "execution_count": 6,
     "metadata": {},
     "output_type": "execute_result"
    }
   ],
   "source": [
    "%%time\n",
    "doubledouble3 = AIPyW(riesz_method=\"ipw\")\n",
    "doubledouble3.fit(X, D, Y)\n",
    "doubledouble3.summary()"
   ]
  },
  {
   "cell_type": "code",
   "execution_count": 7,
   "metadata": {},
   "outputs": [
    {
     "name": "stdout",
     "output_type": "stream",
     "text": [
      "CPU times: user 32.6 s, sys: 11.9 s, total: 44.5 s\n",
      "Wall time: 3.13 s\n"
     ]
    },
    {
     "data": {
      "text/plain": [
       "{'1 vs 0': {'effect': 0.3516921176737457, 'se': 0.0003074449246188787},\n",
       " '2 vs 0': {'effect': 0.442799370180441, 'se': 0.00032876940551221443},\n",
       " '3 vs 0': {'effect': 0.48361785088438103, 'se': 0.0003367267795149449},\n",
       " '2 vs 1': {'effect': 0.09110725250669531, 'se': 0.0002464474798193398},\n",
       " '3 vs 1': {'effect': 0.13192573321063542, 'se': 0.00026858923244345995},\n",
       " '3 vs 2': {'effect': 0.04081848070394008, 'se': 0.0002802135791847662}}"
      ]
     },
     "execution_count": 7,
     "metadata": {},
     "output_type": "execute_result"
    }
   ],
   "source": [
    "%%time\n",
    "doubledouble3 = AIPyW(riesz_method=\"linear\")\n",
    "doubledouble3.fit(X, D, Y)\n",
    "doubledouble3.summary()"
   ]
  },
  {
   "cell_type": "code",
   "execution_count": 8,
   "metadata": {},
   "outputs": [
    {
     "name": "stdout",
     "output_type": "stream",
     "text": [
      "CPU times: user 1.38 s, sys: 1.69 s, total: 3.07 s\n",
      "Wall time: 230 ms\n"
     ]
    },
    {
     "data": {
      "text/plain": [
       "{'1 vs 0': {'effect': 0.39851183324945333, 'se': 1.4484548390155508e-05},\n",
       " '2 vs 0': {'effect': 0.4987931530559083, 'se': 1.4243642678264582e-05},\n",
       " '3 vs 0': {'effect': 0.5473111937733468, 'se': 1.3152371384222194e-05},\n",
       " '2 vs 1': {'effect': 0.10028131980645509, 'se': 1.628660556388105e-05},\n",
       " '3 vs 1': {'effect': 0.14879936052389353, 'se': 1.6086796143714927e-05},\n",
       " '3 vs 2': {'effect': 0.04851804071743844, 'se': 1.9199184339119927e-05}}"
      ]
     },
     "execution_count": 8,
     "metadata": {},
     "output_type": "execute_result"
    }
   ],
   "source": [
    "%%time\n",
    "doubledouble3 = AIPyW(riesz_method=\"balancing\", bal_obj=\"quadratic\")\n",
    "doubledouble3.fit(X, D, Y)\n",
    "doubledouble3.summary()"
   ]
  },
  {
   "cell_type": "markdown",
   "metadata": {},
   "source": [
    "## Hainmueller (2012) Simulation study\n",
    "\n",
    "Binary treatment, continuous outcome, 2 groups. We parametrize degree of overlap, functional form of outcome and treatment models. True effect is zero, so RMSE is easy to calculate."
   ]
  },
  {
   "cell_type": "code",
   "execution_count": 10,
   "metadata": {},
   "outputs": [],
   "source": [
    "def one_rep(\n",
    "    n_samples, overlap_design, pscore_design, outcome_design, riesz_method, **kwargs\n",
    "):\n",
    "    # generate data\n",
    "    y, d, X = hainmueller(\n",
    "        n_samples=n_samples,\n",
    "        overlap_design=overlap_design,\n",
    "        pscore_design=pscore_design,\n",
    "        outcome_design=outcome_design,\n",
    "    )\n",
    "    m1, m2 = LGBMRegressor(verbose=-1, n_jobs=1), LGBMClassifier(verbose=-1, n_jobs=1)\n",
    "    # model instantiation\n",
    "    aipw = AIPyW(\n",
    "        propensity_model=m2, outcome_model=m1, riesz_method=riesz_method, **kwargs\n",
    "    )\n",
    "    aipw.fit(X, d, y, n_rff=100)\n",
    "    return aipw.summary()[\"1 vs 0\"][\"effect\"]"
   ]
  },
  {
   "cell_type": "markdown",
   "metadata": {},
   "source": [
    "Favorable case: good overlap, linear pscore and outcome"
   ]
  },
  {
   "cell_type": "code",
   "execution_count": 11,
   "metadata": {},
   "outputs": [
    {
     "name": "stdout",
     "output_type": "stream",
     "text": [
      "CPU times: user 374 ms, sys: 3.85 ms, total: 378 ms\n",
      "Wall time: 391 ms\n"
     ]
    },
    {
     "data": {
      "text/plain": [
       "0.0836386558119037"
      ]
     },
     "execution_count": 11,
     "metadata": {},
     "output_type": "execute_result"
    }
   ],
   "source": [
    "%%time\n",
    "one_rep(10_000, 2, 1, 1, \"ipw\")"
   ]
  },
  {
   "cell_type": "code",
   "execution_count": 12,
   "metadata": {},
   "outputs": [
    {
     "name": "stdout",
     "output_type": "stream",
     "text": [
      "CPU times: user 3.87 s, sys: 1.58 s, total: 5.46 s\n",
      "Wall time: 612 ms\n"
     ]
    },
    {
     "data": {
      "text/plain": [
       "0.015526093837424577"
      ]
     },
     "execution_count": 12,
     "metadata": {},
     "output_type": "execute_result"
    }
   ],
   "source": [
    "%%time\n",
    "one_rep(10_000, 2, 1, 1, \"linear\")"
   ]
  },
  {
   "cell_type": "code",
   "execution_count": 13,
   "metadata": {},
   "outputs": [
    {
     "name": "stdout",
     "output_type": "stream",
     "text": [
      "CPU times: user 10.7 s, sys: 2.63 s, total: 13.4 s\n",
      "Wall time: 1.19 s\n"
     ]
    },
    {
     "data": {
      "text/plain": [
       "0.026719792404255066"
      ]
     },
     "execution_count": 13,
     "metadata": {},
     "output_type": "execute_result"
    }
   ],
   "source": [
    "%%time\n",
    "one_rep(10_000, 2, 1, 1, \"kernel\")"
   ]
  },
  {
   "cell_type": "code",
   "execution_count": 14,
   "metadata": {},
   "outputs": [
    {
     "name": "stdout",
     "output_type": "stream",
     "text": [
      "CPU times: user 277 ms, sys: 22.4 ms, total: 300 ms\n",
      "Wall time: 270 ms\n"
     ]
    },
    {
     "data": {
      "text/plain": [
       "0.009155275845615768"
      ]
     },
     "execution_count": 14,
     "metadata": {},
     "output_type": "execute_result"
    }
   ],
   "source": [
    "%%time\n",
    "one_rep(10_000, 2, 1, 1, \"automatic\")"
   ]
  },
  {
   "cell_type": "code",
   "execution_count": 15,
   "metadata": {},
   "outputs": [
    {
     "name": "stdout",
     "output_type": "stream",
     "text": [
      "CPU times: user 302 ms, sys: 43.2 ms, total: 345 ms\n",
      "Wall time: 278 ms\n"
     ]
    },
    {
     "data": {
      "text/plain": [
       "0.025431150590310692"
      ]
     },
     "execution_count": 15,
     "metadata": {},
     "output_type": "execute_result"
    }
   ],
   "source": [
    "%%time\n",
    "one_rep(10_000, 2, 1, 1, \"balancing\")"
   ]
  },
  {
   "cell_type": "code",
   "execution_count": 16,
   "metadata": {},
   "outputs": [
    {
     "name": "stdout",
     "output_type": "stream",
     "text": [
      "CPU times: user 565 ms, sys: 500 ms, total: 1.06 s\n",
      "Wall time: 332 ms\n"
     ]
    },
    {
     "data": {
      "text/plain": [
       "0.03250301580285296"
      ]
     },
     "execution_count": 16,
     "metadata": {},
     "output_type": "execute_result"
    }
   ],
   "source": [
    "%%time\n",
    "one_rep(10_000, 2, 1, 1, \"balancing\", bal_obj=\"entropy\")"
   ]
  },
  {
   "cell_type": "markdown",
   "metadata": {},
   "source": [
    "### Hard case: poor overlap, non-linear pscore and outcome"
   ]
  },
  {
   "cell_type": "code",
   "execution_count": 17,
   "metadata": {},
   "outputs": [
    {
     "name": "stdout",
     "output_type": "stream",
     "text": [
      "CPU times: user 412 ms, sys: 358 µs, total: 412 ms\n",
      "Wall time: 412 ms\n"
     ]
    },
    {
     "data": {
      "text/plain": [
       "69.44373946330548"
      ]
     },
     "execution_count": 17,
     "metadata": {},
     "output_type": "execute_result"
    }
   ],
   "source": [
    "%%time\n",
    "one_rep(10_000, 1, 3, 3, \"ipw\")"
   ]
  },
  {
   "cell_type": "code",
   "execution_count": 18,
   "metadata": {},
   "outputs": [
    {
     "name": "stdout",
     "output_type": "stream",
     "text": [
      "CPU times: user 4.29 s, sys: 1.78 s, total: 6.07 s\n",
      "Wall time: 650 ms\n"
     ]
    },
    {
     "data": {
      "text/plain": [
       "0.09306011349615892"
      ]
     },
     "execution_count": 18,
     "metadata": {},
     "output_type": "execute_result"
    }
   ],
   "source": [
    "%%time\n",
    "one_rep(10_000, 1, 3, 3, \"linear\")"
   ]
  },
  {
   "cell_type": "code",
   "execution_count": 19,
   "metadata": {},
   "outputs": [
    {
     "name": "stdout",
     "output_type": "stream",
     "text": [
      "CPU times: user 15.3 s, sys: 2.87 s, total: 18.2 s\n",
      "Wall time: 1.47 s\n"
     ]
    },
    {
     "data": {
      "text/plain": [
       "-1.7437454155475818"
      ]
     },
     "execution_count": 19,
     "metadata": {},
     "output_type": "execute_result"
    }
   ],
   "source": [
    "%%time\n",
    "one_rep(10_000, 1, 3, 3, \"kernel\")"
   ]
  },
  {
   "cell_type": "code",
   "execution_count": 20,
   "metadata": {},
   "outputs": [
    {
     "name": "stdout",
     "output_type": "stream",
     "text": [
      "CPU times: user 285 ms, sys: 11.8 ms, total: 297 ms\n",
      "Wall time: 279 ms\n"
     ]
    },
    {
     "data": {
      "text/plain": [
       "0.05647212246812064"
      ]
     },
     "execution_count": 20,
     "metadata": {},
     "output_type": "execute_result"
    }
   ],
   "source": [
    "%%time\n",
    "one_rep(10_000, 2, 1, 1, \"automatic\")"
   ]
  },
  {
   "cell_type": "code",
   "execution_count": 21,
   "metadata": {},
   "outputs": [
    {
     "name": "stdout",
     "output_type": "stream",
     "text": [
      "CPU times: user 283 ms, sys: 21.9 ms, total: 305 ms\n",
      "Wall time: 263 ms\n"
     ]
    },
    {
     "data": {
      "text/plain": [
       "0.3810860547495119"
      ]
     },
     "execution_count": 21,
     "metadata": {},
     "output_type": "execute_result"
    }
   ],
   "source": [
    "%%time\n",
    "one_rep(10_000, 1, 3, 3, \"balancing\")"
   ]
  },
  {
   "cell_type": "code",
   "execution_count": 22,
   "metadata": {},
   "outputs": [
    {
     "name": "stdout",
     "output_type": "stream",
     "text": [
      "CPU times: user 392 ms, sys: 179 ms, total: 571 ms\n",
      "Wall time: 273 ms\n"
     ]
    },
    {
     "data": {
      "text/plain": [
       "-1.7983822878296425"
      ]
     },
     "execution_count": 22,
     "metadata": {},
     "output_type": "execute_result"
    }
   ],
   "source": [
    "%%time\n",
    "one_rep(10_000, 1, 3, 3, \"balancing\", bal_obj=\"entropy\")"
   ]
  },
  {
   "cell_type": "markdown",
   "metadata": {},
   "source": [
    "### all together"
   ]
  },
  {
   "cell_type": "code",
   "execution_count": 23,
   "metadata": {},
   "outputs": [],
   "source": [
    "from joblib import Parallel, delayed\n",
    "\n",
    "def compute_ate_rmse_parallel(\n",
    "    n_samples,\n",
    "    overlap_design,\n",
    "    pscore_design,\n",
    "    outcome_design,\n",
    "    riesz_method,\n",
    "    n_replications=100,\n",
    "    n_jobs=-1,\n",
    "):\n",
    "    ate_estimates = Parallel(n_jobs=n_jobs)(\n",
    "        delayed(one_rep)(\n",
    "            n_samples, overlap_design, pscore_design, outcome_design, riesz_method\n",
    "        )\n",
    "        for _ in range(n_replications)\n",
    "    )\n",
    "    # Compute RMSE\n",
    "    true_ate = 0\n",
    "    rmse = np.sqrt(np.mean((np.array(ate_estimates) - true_ate) ** 2))\n",
    "    return rmse"
   ]
  },
  {
   "cell_type": "code",
   "execution_count": 24,
   "metadata": {},
   "outputs": [
    {
     "name": "stdout",
     "output_type": "stream",
     "text": [
      "CPU times: user 15.4 s, sys: 3.42 s, total: 18.8 s\n",
      "Wall time: 19min 18s\n"
     ]
    }
   ],
   "source": [
    "%%time\n",
    "from itertools import product\n",
    "params = np.arange(1, 4)\n",
    "param_list = list(product(params, params, params, ['ipw', 'linear', 'kernel', 'automatic', 'balancing']))\n",
    "res_dict = {}\n",
    "for param in param_list:\n",
    "  key = \"_\".join([str(x) for x in param])\n",
    "  res_dict[key] = compute_ate_rmse_parallel(10_000, *param)"
   ]
  },
  {
   "cell_type": "code",
   "execution_count": 25,
   "metadata": {},
   "outputs": [
    {
     "data": {
      "text/html": [
       "<div>\n",
       "<style scoped>\n",
       "    .dataframe tbody tr th:only-of-type {\n",
       "        vertical-align: middle;\n",
       "    }\n",
       "\n",
       "    .dataframe tbody tr th {\n",
       "        vertical-align: top;\n",
       "    }\n",
       "\n",
       "    .dataframe thead th {\n",
       "        text-align: right;\n",
       "    }\n",
       "</style>\n",
       "<table border=\"1\" class=\"dataframe\">\n",
       "  <thead>\n",
       "    <tr style=\"text-align: right;\">\n",
       "      <th></th>\n",
       "      <th>ipw</th>\n",
       "      <th>linear</th>\n",
       "      <th>kernel</th>\n",
       "      <th>automatic</th>\n",
       "      <th>constrained</th>\n",
       "      <th>overlap_design</th>\n",
       "      <th>pscore_design</th>\n",
       "      <th>outcome_design</th>\n",
       "    </tr>\n",
       "  </thead>\n",
       "  <tbody>\n",
       "    <tr>\n",
       "      <th>0</th>\n",
       "      <td>0.067663</td>\n",
       "      <td>0.069738</td>\n",
       "      <td>0.038778</td>\n",
       "      <td>0.062457</td>\n",
       "      <td>0.065027</td>\n",
       "      <td>poor</td>\n",
       "      <td>linear</td>\n",
       "      <td>linear</td>\n",
       "    </tr>\n",
       "    <tr>\n",
       "      <th>1</th>\n",
       "      <td>0.061450</td>\n",
       "      <td>0.065838</td>\n",
       "      <td>0.034477</td>\n",
       "      <td>0.067643</td>\n",
       "      <td>0.064520</td>\n",
       "      <td>poor</td>\n",
       "      <td>linear</td>\n",
       "      <td>quad</td>\n",
       "    </tr>\n",
       "    <tr>\n",
       "      <th>2</th>\n",
       "      <td>8.026715</td>\n",
       "      <td>11.399964</td>\n",
       "      <td>4.230426</td>\n",
       "      <td>23.012962</td>\n",
       "      <td>34.992916</td>\n",
       "      <td>poor</td>\n",
       "      <td>linear</td>\n",
       "      <td>nl</td>\n",
       "    </tr>\n",
       "    <tr>\n",
       "      <th>3</th>\n",
       "      <td>0.060049</td>\n",
       "      <td>0.061884</td>\n",
       "      <td>0.039053</td>\n",
       "      <td>0.058086</td>\n",
       "      <td>0.051982</td>\n",
       "      <td>poor</td>\n",
       "      <td>quad</td>\n",
       "      <td>linear</td>\n",
       "    </tr>\n",
       "    <tr>\n",
       "      <th>4</th>\n",
       "      <td>0.036830</td>\n",
       "      <td>0.035757</td>\n",
       "      <td>0.022515</td>\n",
       "      <td>0.040318</td>\n",
       "      <td>0.033273</td>\n",
       "      <td>poor</td>\n",
       "      <td>quad</td>\n",
       "      <td>quad</td>\n",
       "    </tr>\n",
       "    <tr>\n",
       "      <th>5</th>\n",
       "      <td>18.876822</td>\n",
       "      <td>5.905107</td>\n",
       "      <td>183.514660</td>\n",
       "      <td>711.297691</td>\n",
       "      <td>13.271389</td>\n",
       "      <td>poor</td>\n",
       "      <td>quad</td>\n",
       "      <td>nl</td>\n",
       "    </tr>\n",
       "    <tr>\n",
       "      <th>6</th>\n",
       "      <td>0.023669</td>\n",
       "      <td>0.012367</td>\n",
       "      <td>0.011074</td>\n",
       "      <td>0.028292</td>\n",
       "      <td>0.024507</td>\n",
       "      <td>poor</td>\n",
       "      <td>trig</td>\n",
       "      <td>linear</td>\n",
       "    </tr>\n",
       "    <tr>\n",
       "      <th>7</th>\n",
       "      <td>0.023306</td>\n",
       "      <td>0.011653</td>\n",
       "      <td>0.012639</td>\n",
       "      <td>0.021560</td>\n",
       "      <td>0.025335</td>\n",
       "      <td>poor</td>\n",
       "      <td>trig</td>\n",
       "      <td>quad</td>\n",
       "    </tr>\n",
       "    <tr>\n",
       "      <th>8</th>\n",
       "      <td>22.429755</td>\n",
       "      <td>8.371317</td>\n",
       "      <td>23.645728</td>\n",
       "      <td>31.252971</td>\n",
       "      <td>238.541241</td>\n",
       "      <td>poor</td>\n",
       "      <td>trig</td>\n",
       "      <td>nl</td>\n",
       "    </tr>\n",
       "    <tr>\n",
       "      <th>9</th>\n",
       "      <td>0.034867</td>\n",
       "      <td>0.029071</td>\n",
       "      <td>0.017621</td>\n",
       "      <td>0.032041</td>\n",
       "      <td>0.031465</td>\n",
       "      <td>good</td>\n",
       "      <td>linear</td>\n",
       "      <td>linear</td>\n",
       "    </tr>\n",
       "    <tr>\n",
       "      <th>10</th>\n",
       "      <td>0.026894</td>\n",
       "      <td>0.022186</td>\n",
       "      <td>0.014438</td>\n",
       "      <td>0.026292</td>\n",
       "      <td>0.029387</td>\n",
       "      <td>good</td>\n",
       "      <td>linear</td>\n",
       "      <td>quad</td>\n",
       "    </tr>\n",
       "    <tr>\n",
       "      <th>11</th>\n",
       "      <td>179.485135</td>\n",
       "      <td>10.802472</td>\n",
       "      <td>10.396228</td>\n",
       "      <td>21.579257</td>\n",
       "      <td>26.175261</td>\n",
       "      <td>good</td>\n",
       "      <td>linear</td>\n",
       "      <td>nl</td>\n",
       "    </tr>\n",
       "    <tr>\n",
       "      <th>12</th>\n",
       "      <td>0.035502</td>\n",
       "      <td>0.028947</td>\n",
       "      <td>0.019339</td>\n",
       "      <td>0.034886</td>\n",
       "      <td>0.033828</td>\n",
       "      <td>good</td>\n",
       "      <td>quad</td>\n",
       "      <td>linear</td>\n",
       "    </tr>\n",
       "    <tr>\n",
       "      <th>13</th>\n",
       "      <td>0.025407</td>\n",
       "      <td>0.015296</td>\n",
       "      <td>0.014148</td>\n",
       "      <td>0.028096</td>\n",
       "      <td>0.023000</td>\n",
       "      <td>good</td>\n",
       "      <td>quad</td>\n",
       "      <td>quad</td>\n",
       "    </tr>\n",
       "    <tr>\n",
       "      <th>14</th>\n",
       "      <td>13.664779</td>\n",
       "      <td>10.339576</td>\n",
       "      <td>173.993277</td>\n",
       "      <td>22.979242</td>\n",
       "      <td>33.600682</td>\n",
       "      <td>good</td>\n",
       "      <td>quad</td>\n",
       "      <td>nl</td>\n",
       "    </tr>\n",
       "    <tr>\n",
       "      <th>15</th>\n",
       "      <td>0.024206</td>\n",
       "      <td>0.011421</td>\n",
       "      <td>0.011366</td>\n",
       "      <td>0.024318</td>\n",
       "      <td>0.021389</td>\n",
       "      <td>good</td>\n",
       "      <td>trig</td>\n",
       "      <td>linear</td>\n",
       "    </tr>\n",
       "    <tr>\n",
       "      <th>16</th>\n",
       "      <td>0.022157</td>\n",
       "      <td>0.010310</td>\n",
       "      <td>0.010662</td>\n",
       "      <td>0.022442</td>\n",
       "      <td>0.021233</td>\n",
       "      <td>good</td>\n",
       "      <td>trig</td>\n",
       "      <td>quad</td>\n",
       "    </tr>\n",
       "    <tr>\n",
       "      <th>17</th>\n",
       "      <td>115.622975</td>\n",
       "      <td>15.145982</td>\n",
       "      <td>9.530190</td>\n",
       "      <td>61.726100</td>\n",
       "      <td>79.354692</td>\n",
       "      <td>good</td>\n",
       "      <td>trig</td>\n",
       "      <td>nl</td>\n",
       "    </tr>\n",
       "    <tr>\n",
       "      <th>18</th>\n",
       "      <td>0.045704</td>\n",
       "      <td>0.042542</td>\n",
       "      <td>0.024932</td>\n",
       "      <td>0.048207</td>\n",
       "      <td>0.049613</td>\n",
       "      <td>medium</td>\n",
       "      <td>linear</td>\n",
       "      <td>linear</td>\n",
       "    </tr>\n",
       "    <tr>\n",
       "      <th>19</th>\n",
       "      <td>0.056661</td>\n",
       "      <td>0.055381</td>\n",
       "      <td>0.026002</td>\n",
       "      <td>0.049030</td>\n",
       "      <td>0.052190</td>\n",
       "      <td>medium</td>\n",
       "      <td>linear</td>\n",
       "      <td>quad</td>\n",
       "    </tr>\n",
       "    <tr>\n",
       "      <th>20</th>\n",
       "      <td>8.174913</td>\n",
       "      <td>11.070638</td>\n",
       "      <td>13.744552</td>\n",
       "      <td>40.902674</td>\n",
       "      <td>219.896959</td>\n",
       "      <td>medium</td>\n",
       "      <td>linear</td>\n",
       "      <td>nl</td>\n",
       "    </tr>\n",
       "    <tr>\n",
       "      <th>21</th>\n",
       "      <td>0.046868</td>\n",
       "      <td>0.052099</td>\n",
       "      <td>0.030284</td>\n",
       "      <td>0.052064</td>\n",
       "      <td>0.048552</td>\n",
       "      <td>medium</td>\n",
       "      <td>quad</td>\n",
       "      <td>linear</td>\n",
       "    </tr>\n",
       "    <tr>\n",
       "      <th>22</th>\n",
       "      <td>0.034715</td>\n",
       "      <td>0.033420</td>\n",
       "      <td>0.018951</td>\n",
       "      <td>0.038354</td>\n",
       "      <td>0.037041</td>\n",
       "      <td>medium</td>\n",
       "      <td>quad</td>\n",
       "      <td>quad</td>\n",
       "    </tr>\n",
       "    <tr>\n",
       "      <th>23</th>\n",
       "      <td>17.142535</td>\n",
       "      <td>208.718376</td>\n",
       "      <td>4.764488</td>\n",
       "      <td>74.885953</td>\n",
       "      <td>54.600200</td>\n",
       "      <td>medium</td>\n",
       "      <td>quad</td>\n",
       "      <td>nl</td>\n",
       "    </tr>\n",
       "    <tr>\n",
       "      <th>24</th>\n",
       "      <td>0.022608</td>\n",
       "      <td>0.013110</td>\n",
       "      <td>0.012369</td>\n",
       "      <td>0.023222</td>\n",
       "      <td>0.025407</td>\n",
       "      <td>medium</td>\n",
       "      <td>trig</td>\n",
       "      <td>linear</td>\n",
       "    </tr>\n",
       "    <tr>\n",
       "      <th>25</th>\n",
       "      <td>0.024625</td>\n",
       "      <td>0.011206</td>\n",
       "      <td>0.010145</td>\n",
       "      <td>0.022983</td>\n",
       "      <td>0.022249</td>\n",
       "      <td>medium</td>\n",
       "      <td>trig</td>\n",
       "      <td>quad</td>\n",
       "    </tr>\n",
       "    <tr>\n",
       "      <th>26</th>\n",
       "      <td>17.133954</td>\n",
       "      <td>66.278884</td>\n",
       "      <td>17.967825</td>\n",
       "      <td>15.299962</td>\n",
       "      <td>47.953211</td>\n",
       "      <td>medium</td>\n",
       "      <td>trig</td>\n",
       "      <td>nl</td>\n",
       "    </tr>\n",
       "  </tbody>\n",
       "</table>\n",
       "</div>"
      ],
      "text/plain": [
       "           ipw      linear      kernel   automatic  constrained  \\\n",
       "0     0.067663    0.069738    0.038778    0.062457     0.065027   \n",
       "1     0.061450    0.065838    0.034477    0.067643     0.064520   \n",
       "2     8.026715   11.399964    4.230426   23.012962    34.992916   \n",
       "3     0.060049    0.061884    0.039053    0.058086     0.051982   \n",
       "4     0.036830    0.035757    0.022515    0.040318     0.033273   \n",
       "5    18.876822    5.905107  183.514660  711.297691    13.271389   \n",
       "6     0.023669    0.012367    0.011074    0.028292     0.024507   \n",
       "7     0.023306    0.011653    0.012639    0.021560     0.025335   \n",
       "8    22.429755    8.371317   23.645728   31.252971   238.541241   \n",
       "9     0.034867    0.029071    0.017621    0.032041     0.031465   \n",
       "10    0.026894    0.022186    0.014438    0.026292     0.029387   \n",
       "11  179.485135   10.802472   10.396228   21.579257    26.175261   \n",
       "12    0.035502    0.028947    0.019339    0.034886     0.033828   \n",
       "13    0.025407    0.015296    0.014148    0.028096     0.023000   \n",
       "14   13.664779   10.339576  173.993277   22.979242    33.600682   \n",
       "15    0.024206    0.011421    0.011366    0.024318     0.021389   \n",
       "16    0.022157    0.010310    0.010662    0.022442     0.021233   \n",
       "17  115.622975   15.145982    9.530190   61.726100    79.354692   \n",
       "18    0.045704    0.042542    0.024932    0.048207     0.049613   \n",
       "19    0.056661    0.055381    0.026002    0.049030     0.052190   \n",
       "20    8.174913   11.070638   13.744552   40.902674   219.896959   \n",
       "21    0.046868    0.052099    0.030284    0.052064     0.048552   \n",
       "22    0.034715    0.033420    0.018951    0.038354     0.037041   \n",
       "23   17.142535  208.718376    4.764488   74.885953    54.600200   \n",
       "24    0.022608    0.013110    0.012369    0.023222     0.025407   \n",
       "25    0.024625    0.011206    0.010145    0.022983     0.022249   \n",
       "26   17.133954   66.278884   17.967825   15.299962    47.953211   \n",
       "\n",
       "   overlap_design pscore_design outcome_design  \n",
       "0            poor        linear         linear  \n",
       "1            poor        linear           quad  \n",
       "2            poor        linear             nl  \n",
       "3            poor          quad         linear  \n",
       "4            poor          quad           quad  \n",
       "5            poor          quad             nl  \n",
       "6            poor          trig         linear  \n",
       "7            poor          trig           quad  \n",
       "8            poor          trig             nl  \n",
       "9            good        linear         linear  \n",
       "10           good        linear           quad  \n",
       "11           good        linear             nl  \n",
       "12           good          quad         linear  \n",
       "13           good          quad           quad  \n",
       "14           good          quad             nl  \n",
       "15           good          trig         linear  \n",
       "16           good          trig           quad  \n",
       "17           good          trig             nl  \n",
       "18         medium        linear         linear  \n",
       "19         medium        linear           quad  \n",
       "20         medium        linear             nl  \n",
       "21         medium          quad         linear  \n",
       "22         medium          quad           quad  \n",
       "23         medium          quad             nl  \n",
       "24         medium          trig         linear  \n",
       "25         medium          trig           quad  \n",
       "26         medium          trig             nl  "
      ]
     },
     "execution_count": 25,
     "metadata": {},
     "output_type": "execute_result"
    }
   ],
   "source": [
    "import pandas as pd\n",
    "\n",
    "res_df = pd.DataFrame(\n",
    "    [\n",
    "        list(\n",
    "            product(\n",
    "                [\"poor\", \"good\", \"medium\"],\n",
    "                [\"linear\", \"quad\", \"trig\"],\n",
    "                [\"linear\", \"quad\", \"nl\"],\n",
    "            )\n",
    "        ),\n",
    "        [v for k, v in res_dict.items() if k.endswith(\"ipw\")],\n",
    "        [v for k, v in res_dict.items() if k.endswith(\"linear\")],\n",
    "        [v for k, v in res_dict.items() if k.endswith(\"kernel\")],\n",
    "        [v for k, v in res_dict.items() if k.endswith(\"automatic\")],\n",
    "        [v for k, v in res_dict.items() if k.endswith(\"balancing\")],\n",
    "    ],\n",
    ").T.infer_objects()\n",
    "res_df.columns = [\"design\", \"ipw\", \"linear\", \"kernel\", \"automatic\", \"constrained\"]\n",
    "# unpack design column\n",
    "res_df[\"overlap_design\"] = res_df[\"design\"].apply(lambda x: x[0])\n",
    "res_df[\"pscore_design\"] = res_df[\"design\"].apply(lambda x: x[1])\n",
    "res_df[\"outcome_design\"] = res_df[\"design\"].apply(lambda x: x[2])\n",
    "res_df.drop(columns=[\"design\"], inplace=True)\n",
    "\n",
    "res_df"
   ]
  }
 ],
 "metadata": {
  "kernelspec": {
   "display_name": "py311",
   "language": "python",
   "name": "python3"
  },
  "language_info": {
   "codemirror_mode": {
    "name": "ipython",
    "version": 3
   },
   "file_extension": ".py",
   "mimetype": "text/x-python",
   "name": "python",
   "nbconvert_exporter": "python",
   "pygments_lexer": "ipython3",
   "version": "3.11.7"
  }
 },
 "nbformat": 4,
 "nbformat_minor": 4
}
