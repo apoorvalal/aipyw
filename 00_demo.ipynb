{
 "cells": [
  {
   "cell_type": "code",
   "execution_count": 1,
   "metadata": {},
   "outputs": [],
   "source": [
    "import numpy as np\n",
    "import sklearn\n",
    "import sklearn.pipeline as skpipe\n",
    "# learners\n",
    "import celer as cel\n",
    "from lightgbm import LGBMClassifier, LGBMRegressor\n",
    "\n",
    "# this module\n",
    "from aipyw import AIPyW\n",
    "from aipyw.dgp import dgp_binary, dgp_discrete, hainmueller\n",
    "\n",
    "np.random.seed(42)"
   ]
  },
  {
   "cell_type": "code",
   "execution_count": 2,
   "metadata": {},
   "outputs": [],
   "source": [
    "import matplotlib.pyplot as plt\n",
    "import seaborn as sns"
   ]
  },
  {
   "cell_type": "markdown",
   "metadata": {},
   "source": [
    "# Basic Demo\n"
   ]
  },
  {
   "cell_type": "markdown",
   "metadata": {},
   "source": [
    "## Discrete Treatments"
   ]
  },
  {
   "cell_type": "code",
   "execution_count": 3,
   "metadata": {},
   "outputs": [
    {
     "data": {
      "text/plain": [
       "((100000,), (100000,), (100000, 10))"
      ]
     },
     "execution_count": 3,
     "metadata": {},
     "output_type": "execute_result"
    }
   ],
   "source": [
    "Y, D, X = dgp_discrete(\n",
    "    n=100_000,\n",
    "    p=4,\n",
    "    treat_effects=np.array([0.0, 0.4, 0.5, 0.55]),\n",
    ")\n",
    "Y.shape, D.shape, X.shape"
   ]
  },
  {
   "cell_type": "code",
   "execution_count": 4,
   "metadata": {},
   "outputs": [
    {
     "data": {
      "text/plain": [
       "(np.float64(-2.459176579755844),\n",
       " np.float64(0.9312130397763212),\n",
       " np.float64(2.8166707333716685))"
      ]
     },
     "execution_count": 4,
     "metadata": {},
     "output_type": "execute_result"
    }
   ],
   "source": [
    "(Y[D == 1,].mean() - Y[D == 0,].mean(),\n",
    "  Y[D == 2,].mean() - Y[D == 0,].mean(),\n",
    "  Y[D == 3,].mean() - Y[D == 0,].mean()\n",
    ")"
   ]
  },
  {
   "cell_type": "markdown",
   "metadata": {},
   "source": [
    "Naive estimates badly biased."
   ]
  },
  {
   "cell_type": "code",
   "execution_count": 5,
   "metadata": {},
   "outputs": [
    {
     "name": "stdout",
     "output_type": "stream",
     "text": [
      "CPU times: user 6.56 s, sys: 11.1 ms, total: 6.57 s\n",
      "Wall time: 497 ms\n"
     ]
    },
    {
     "data": {
      "text/plain": [
       "{'1 vs 0': {'effect': np.float64(0.3993327187181337),\n",
       "  'se': np.float64(1.1326191260309973e-05)},\n",
       " '2 vs 0': {'effect': np.float64(0.5002251443946422),\n",
       "  'se': np.float64(1.2632634887430513e-05)},\n",
       " '3 vs 0': {'effect': np.float64(0.5520125191219095),\n",
       "  'se': np.float64(1.316455977270563e-05)},\n",
       " '2 vs 1': {'effect': np.float64(0.10089242567650843),\n",
       "  'se': np.float64(1.271426174924722e-05)},\n",
       " '3 vs 1': {'effect': np.float64(0.1526798004037758),\n",
       "  'se': np.float64(1.1282258005654327e-05)},\n",
       " '3 vs 2': {'effect': np.float64(0.051787374727267396),\n",
       "  'se': np.float64(1.3206565735523708e-05)}}"
      ]
     },
     "execution_count": 5,
     "metadata": {},
     "output_type": "execute_result"
    }
   ],
   "source": [
    "%%time\n",
    "doubledouble3 = AIPyW(riesz_method=\"ipw\")\n",
    "doubledouble3.fit(X, D, Y)\n",
    "doubledouble3.summary()"
   ]
  },
  {
   "cell_type": "code",
   "execution_count": 6,
   "metadata": {},
   "outputs": [
    {
     "name": "stdout",
     "output_type": "stream",
     "text": [
      "CPU times: user 1min 5s, sys: 217 ms, total: 1min 5s\n",
      "Wall time: 4.39 s\n"
     ]
    },
    {
     "data": {
      "text/plain": [
       "{'1 vs 0': {'effect': np.float64(0.3440241782297518),\n",
       "  'se': np.float64(0.00031759006244523954)},\n",
       " '2 vs 0': {'effect': np.float64(0.43320743886748597),\n",
       "  'se': np.float64(0.00032485666524239936)},\n",
       " '3 vs 0': {'effect': np.float64(0.47547790412244395),\n",
       "  'se': np.float64(0.0003325522904819936)},\n",
       " '2 vs 1': {'effect': np.float64(0.08918326063773419),\n",
       "  'se': np.float64(0.00024092384230735961)},\n",
       " '3 vs 1': {'effect': np.float64(0.13145372589269216),\n",
       "  'se': np.float64(0.0002638624008049813)},\n",
       " '3 vs 2': {'effect': np.float64(0.042270465254957965),\n",
       "  'se': np.float64(0.0002683575335978814)}}"
      ]
     },
     "execution_count": 6,
     "metadata": {},
     "output_type": "execute_result"
    }
   ],
   "source": [
    "%%time\n",
    "doubledouble3 = AIPyW(riesz_method=\"linear\")\n",
    "doubledouble3.fit(X, D, Y)\n",
    "doubledouble3.summary()"
   ]
  },
  {
   "cell_type": "code",
   "execution_count": 7,
   "metadata": {},
   "outputs": [
    {
     "name": "stdout",
     "output_type": "stream",
     "text": [
      "CPU times: user 5.92 s, sys: 3.78 ms, total: 5.93 s\n",
      "Wall time: 438 ms\n"
     ]
    },
    {
     "data": {
      "text/plain": [
       "{'1 vs 0': {'effect': np.float64(0.3992624833348587),\n",
       "  'se': np.float64(1.1131571660979226e-05)},\n",
       " '2 vs 0': {'effect': np.float64(0.4999967519495474),\n",
       "  'se': np.float64(1.2429734209405745e-05)},\n",
       " '3 vs 0': {'effect': np.float64(0.55194785160569),\n",
       "  'se': np.float64(1.3086491593015786e-05)},\n",
       " '2 vs 1': {'effect': np.float64(0.10073426861468866),\n",
       "  'se': np.float64(1.26949544159626e-05)},\n",
       " '3 vs 1': {'effect': np.float64(0.15268536827083137),\n",
       "  'se': np.float64(1.13142418777214e-05)},\n",
       " '3 vs 2': {'effect': np.float64(0.05195109965614269),\n",
       "  'se': np.float64(1.3205131515576768e-05)}}"
      ]
     },
     "execution_count": 7,
     "metadata": {},
     "output_type": "execute_result"
    }
   ],
   "source": [
    "%%time\n",
    "doubledouble3 = AIPyW(riesz_method=\"balancing\", bal_obj=\"quadratic\")\n",
    "doubledouble3.fit(X, D, Y)\n",
    "doubledouble3.summary()"
   ]
  },
  {
   "cell_type": "markdown",
   "metadata": {},
   "source": [
    "## Hainmueller (2012) Simulation study\n",
    "\n",
    "Binary treatment, continuous outcome, 2 groups. We parametrize degree of overlap, functional form of outcome and treatment models. True effect is zero, so RMSE is easy to calculate."
   ]
  },
  {
   "cell_type": "code",
   "execution_count": 8,
   "metadata": {},
   "outputs": [],
   "source": [
    "def one_rep(n_samples, overlap_design, pscore_design, outcome_design, riesz_method, **kwargs):\n",
    "    # generate data\n",
    "    y, d, X = hainmueller(\n",
    "        n_samples=n_samples,\n",
    "        overlap_design=overlap_design,\n",
    "        pscore_design=pscore_design,\n",
    "        outcome_design=outcome_design,\n",
    "    )\n",
    "    m1, m2 = LGBMRegressor(verbose=-1, n_jobs=1), LGBMClassifier(verbose=-1, n_jobs=1)\n",
    "    # model instantiation\n",
    "    aipw = AIPyW(propensity_model=m2, outcome_model=m1, riesz_method=riesz_method, **kwargs)\n",
    "    aipw.fit(X, d, y, n_rff=100)\n",
    "    return aipw.summary()[\"1 vs 0\"][\"effect\"]"
   ]
  },
  {
   "cell_type": "markdown",
   "metadata": {},
   "source": [
    "Favorable case: good overlap, linear pscore and outcome"
   ]
  },
  {
   "cell_type": "code",
   "execution_count": 9,
   "metadata": {},
   "outputs": [
    {
     "name": "stdout",
     "output_type": "stream",
     "text": [
      "CPU times: user 724 ms, sys: 12 ms, total: 736 ms\n",
      "Wall time: 421 ms\n"
     ]
    },
    {
     "data": {
      "text/plain": [
       "np.float64(0.02722229312316711)"
      ]
     },
     "execution_count": 9,
     "metadata": {},
     "output_type": "execute_result"
    }
   ],
   "source": [
    "%%time\n",
    "one_rep(10_000, 2, 1, 1, \"ipw\")"
   ]
  },
  {
   "cell_type": "code",
   "execution_count": 10,
   "metadata": {},
   "outputs": [
    {
     "name": "stdout",
     "output_type": "stream",
     "text": [
      "CPU times: user 573 ms, sys: 0 ns, total: 573 ms\n",
      "Wall time: 303 ms\n"
     ]
    },
    {
     "data": {
      "text/plain": [
       "np.float64(0.006689004288240835)"
      ]
     },
     "execution_count": 10,
     "metadata": {},
     "output_type": "execute_result"
    }
   ],
   "source": [
    "%%time\n",
    "one_rep(10_000, 2, 1, 1, \"linear\")"
   ]
  },
  {
   "cell_type": "code",
   "execution_count": 11,
   "metadata": {},
   "outputs": [
    {
     "name": "stdout",
     "output_type": "stream",
     "text": [
      "CPU times: user 21.1 s, sys: 20.1 ms, total: 21.2 s\n",
      "Wall time: 1.56 s\n"
     ]
    },
    {
     "data": {
      "text/plain": [
       "np.float64(-0.0032402673454760135)"
      ]
     },
     "execution_count": 11,
     "metadata": {},
     "output_type": "execute_result"
    }
   ],
   "source": [
    "%%time\n",
    "one_rep(10_000, 2, 1, 1, \"kernel\")"
   ]
  },
  {
   "cell_type": "code",
   "execution_count": 12,
   "metadata": {},
   "outputs": [
    {
     "name": "stdout",
     "output_type": "stream",
     "text": [
      "CPU times: user 1.78 s, sys: 98 μs, total: 1.78 s\n",
      "Wall time: 366 ms\n"
     ]
    },
    {
     "data": {
      "text/plain": [
       "np.float64(0.028061806731204706)"
      ]
     },
     "execution_count": 12,
     "metadata": {},
     "output_type": "execute_result"
    }
   ],
   "source": [
    "%%time\n",
    "one_rep(10_000, 2, 1, 1, \"balancing\")"
   ]
  },
  {
   "cell_type": "markdown",
   "metadata": {},
   "source": [
    "### Hard case: poor overlap, non-linear pscore and outcome"
   ]
  },
  {
   "cell_type": "code",
   "execution_count": 13,
   "metadata": {},
   "outputs": [
    {
     "name": "stdout",
     "output_type": "stream",
     "text": [
      "CPU times: user 432 ms, sys: 6 μs, total: 432 ms\n",
      "Wall time: 432 ms\n"
     ]
    },
    {
     "data": {
      "text/plain": [
       "np.float64(0.42450475375617436)"
      ]
     },
     "execution_count": 13,
     "metadata": {},
     "output_type": "execute_result"
    }
   ],
   "source": [
    "%%time\n",
    "one_rep(10_000, 1, 3, 3, \"ipw\")"
   ]
  },
  {
   "cell_type": "code",
   "execution_count": 14,
   "metadata": {},
   "outputs": [
    {
     "name": "stdout",
     "output_type": "stream",
     "text": [
      "CPU times: user 552 ms, sys: 3.89 ms, total: 556 ms\n",
      "Wall time: 298 ms\n"
     ]
    },
    {
     "data": {
      "text/plain": [
       "np.float64(-0.16985757185669997)"
      ]
     },
     "execution_count": 14,
     "metadata": {},
     "output_type": "execute_result"
    }
   ],
   "source": [
    "%%time\n",
    "one_rep(10_000, 1, 3, 3, \"linear\")"
   ]
  },
  {
   "cell_type": "code",
   "execution_count": 15,
   "metadata": {},
   "outputs": [
    {
     "name": "stdout",
     "output_type": "stream",
     "text": [
      "CPU times: user 26.7 s, sys: 371 μs, total: 26.7 s\n",
      "Wall time: 1.92 s\n"
     ]
    },
    {
     "data": {
      "text/plain": [
       "np.float64(-0.29089672973480046)"
      ]
     },
     "execution_count": 15,
     "metadata": {},
     "output_type": "execute_result"
    }
   ],
   "source": [
    "%%time\n",
    "one_rep(10_000, 1, 3, 3, \"kernel\")"
   ]
  },
  {
   "cell_type": "code",
   "execution_count": 16,
   "metadata": {},
   "outputs": [
    {
     "name": "stdout",
     "output_type": "stream",
     "text": [
      "CPU times: user 1.62 s, sys: 8.1 ms, total: 1.63 s\n",
      "Wall time: 362 ms\n"
     ]
    },
    {
     "data": {
      "text/plain": [
       "np.float64(1.7559958686052306)"
      ]
     },
     "execution_count": 16,
     "metadata": {},
     "output_type": "execute_result"
    }
   ],
   "source": [
    "%%time\n",
    "one_rep(10_000, 1, 3, 3, \"balancing\", bal_obj=\"entropy\")"
   ]
  },
  {
   "cell_type": "markdown",
   "metadata": {},
   "source": [
    "### all together"
   ]
  },
  {
   "cell_type": "code",
   "execution_count": 17,
   "metadata": {},
   "outputs": [],
   "source": [
    "from joblib import Parallel, delayed\n",
    "\n",
    "def compute_ate_rmse_parallel(\n",
    "    n_samples,\n",
    "    overlap_design,\n",
    "    pscore_design,\n",
    "    outcome_design,\n",
    "    riesz_method,\n",
    "    n_replications=100,\n",
    "    n_jobs=-1,\n",
    "):\n",
    "    ate_estimates = Parallel(n_jobs=n_jobs)(\n",
    "        delayed(one_rep)(\n",
    "            n_samples, overlap_design, pscore_design, outcome_design, riesz_method\n",
    "        )\n",
    "        for _ in range(n_replications)\n",
    "    )\n",
    "    # Compute RMSE\n",
    "    true_ate = 0\n",
    "    rmse = np.sqrt(np.mean((np.array(ate_estimates) - true_ate) ** 2))\n",
    "    return rmse"
   ]
  },
  {
   "cell_type": "code",
   "execution_count": 18,
   "metadata": {},
   "outputs": [
    {
     "name": "stdout",
     "output_type": "stream",
     "text": [
      "CPU times: user 15.8 s, sys: 2.23 s, total: 18 s\n",
      "Wall time: 11min 40s\n"
     ]
    }
   ],
   "source": [
    "%%time\n",
    "from itertools import product\n",
    "params = np.arange(1, 4)\n",
    "param_list = list(product(params, params, params, ['ipw', 'linear', 'kernel']))\n",
    "res_dict = {}\n",
    "for param in param_list:\n",
    "  key = \"_\".join([str(x) for x in param])\n",
    "  res_dict[key] = compute_ate_rmse_parallel(10_000, *param)"
   ]
  },
  {
   "cell_type": "code",
   "execution_count": 20,
   "metadata": {},
   "outputs": [
    {
     "data": {
      "text/html": [
       "<div>\n",
       "<style scoped>\n",
       "    .dataframe tbody tr th:only-of-type {\n",
       "        vertical-align: middle;\n",
       "    }\n",
       "\n",
       "    .dataframe tbody tr th {\n",
       "        vertical-align: top;\n",
       "    }\n",
       "\n",
       "    .dataframe thead th {\n",
       "        text-align: right;\n",
       "    }\n",
       "</style>\n",
       "<table border=\"1\" class=\"dataframe\">\n",
       "  <thead>\n",
       "    <tr style=\"text-align: right;\">\n",
       "      <th></th>\n",
       "      <th>ipw</th>\n",
       "      <th>linear</th>\n",
       "      <th>kernel</th>\n",
       "      <th>overlap_design</th>\n",
       "      <th>pscore_design</th>\n",
       "      <th>outcome_design</th>\n",
       "    </tr>\n",
       "  </thead>\n",
       "  <tbody>\n",
       "    <tr>\n",
       "      <th>0</th>\n",
       "      <td>0.070805</td>\n",
       "      <td>0.072725</td>\n",
       "      <td>0.036937</td>\n",
       "      <td>poor</td>\n",
       "      <td>linear</td>\n",
       "      <td>linear</td>\n",
       "    </tr>\n",
       "    <tr>\n",
       "      <th>1</th>\n",
       "      <td>0.065158</td>\n",
       "      <td>0.065841</td>\n",
       "      <td>0.034757</td>\n",
       "      <td>poor</td>\n",
       "      <td>linear</td>\n",
       "      <td>quad</td>\n",
       "    </tr>\n",
       "    <tr>\n",
       "      <th>2</th>\n",
       "      <td>10.795451</td>\n",
       "      <td>53.318741</td>\n",
       "      <td>7.584756</td>\n",
       "      <td>poor</td>\n",
       "      <td>linear</td>\n",
       "      <td>nl</td>\n",
       "    </tr>\n",
       "    <tr>\n",
       "      <th>3</th>\n",
       "      <td>0.049695</td>\n",
       "      <td>0.058838</td>\n",
       "      <td>0.037490</td>\n",
       "      <td>poor</td>\n",
       "      <td>quad</td>\n",
       "      <td>linear</td>\n",
       "    </tr>\n",
       "    <tr>\n",
       "      <th>4</th>\n",
       "      <td>0.034030</td>\n",
       "      <td>0.037625</td>\n",
       "      <td>0.023982</td>\n",
       "      <td>poor</td>\n",
       "      <td>quad</td>\n",
       "      <td>quad</td>\n",
       "    </tr>\n",
       "    <tr>\n",
       "      <th>5</th>\n",
       "      <td>148.920867</td>\n",
       "      <td>18.837626</td>\n",
       "      <td>23.245381</td>\n",
       "      <td>poor</td>\n",
       "      <td>quad</td>\n",
       "      <td>nl</td>\n",
       "    </tr>\n",
       "    <tr>\n",
       "      <th>6</th>\n",
       "      <td>0.025256</td>\n",
       "      <td>0.014743</td>\n",
       "      <td>0.012772</td>\n",
       "      <td>poor</td>\n",
       "      <td>trig</td>\n",
       "      <td>linear</td>\n",
       "    </tr>\n",
       "    <tr>\n",
       "      <th>7</th>\n",
       "      <td>0.025579</td>\n",
       "      <td>0.011767</td>\n",
       "      <td>0.012002</td>\n",
       "      <td>poor</td>\n",
       "      <td>trig</td>\n",
       "      <td>quad</td>\n",
       "    </tr>\n",
       "    <tr>\n",
       "      <th>8</th>\n",
       "      <td>273.425631</td>\n",
       "      <td>1259.884860</td>\n",
       "      <td>6.622388</td>\n",
       "      <td>poor</td>\n",
       "      <td>trig</td>\n",
       "      <td>nl</td>\n",
       "    </tr>\n",
       "    <tr>\n",
       "      <th>9</th>\n",
       "      <td>0.033463</td>\n",
       "      <td>0.025798</td>\n",
       "      <td>0.016138</td>\n",
       "      <td>good</td>\n",
       "      <td>linear</td>\n",
       "      <td>linear</td>\n",
       "    </tr>\n",
       "    <tr>\n",
       "      <th>10</th>\n",
       "      <td>0.029841</td>\n",
       "      <td>0.027713</td>\n",
       "      <td>0.015610</td>\n",
       "      <td>good</td>\n",
       "      <td>linear</td>\n",
       "      <td>quad</td>\n",
       "    </tr>\n",
       "    <tr>\n",
       "      <th>11</th>\n",
       "      <td>20.792077</td>\n",
       "      <td>49.793379</td>\n",
       "      <td>5.701275</td>\n",
       "      <td>good</td>\n",
       "      <td>linear</td>\n",
       "      <td>nl</td>\n",
       "    </tr>\n",
       "    <tr>\n",
       "      <th>12</th>\n",
       "      <td>0.030933</td>\n",
       "      <td>0.030153</td>\n",
       "      <td>0.018598</td>\n",
       "      <td>good</td>\n",
       "      <td>quad</td>\n",
       "      <td>linear</td>\n",
       "    </tr>\n",
       "    <tr>\n",
       "      <th>13</th>\n",
       "      <td>0.024610</td>\n",
       "      <td>0.016354</td>\n",
       "      <td>0.013215</td>\n",
       "      <td>good</td>\n",
       "      <td>quad</td>\n",
       "      <td>quad</td>\n",
       "    </tr>\n",
       "    <tr>\n",
       "      <th>14</th>\n",
       "      <td>21.566972</td>\n",
       "      <td>15.343937</td>\n",
       "      <td>7.662185</td>\n",
       "      <td>good</td>\n",
       "      <td>quad</td>\n",
       "      <td>nl</td>\n",
       "    </tr>\n",
       "    <tr>\n",
       "      <th>15</th>\n",
       "      <td>0.023138</td>\n",
       "      <td>0.012415</td>\n",
       "      <td>0.012796</td>\n",
       "      <td>good</td>\n",
       "      <td>trig</td>\n",
       "      <td>linear</td>\n",
       "    </tr>\n",
       "    <tr>\n",
       "      <th>16</th>\n",
       "      <td>0.024388</td>\n",
       "      <td>0.010935</td>\n",
       "      <td>0.012547</td>\n",
       "      <td>good</td>\n",
       "      <td>trig</td>\n",
       "      <td>quad</td>\n",
       "    </tr>\n",
       "    <tr>\n",
       "      <th>17</th>\n",
       "      <td>67.157657</td>\n",
       "      <td>9.710085</td>\n",
       "      <td>16.848121</td>\n",
       "      <td>good</td>\n",
       "      <td>trig</td>\n",
       "      <td>nl</td>\n",
       "    </tr>\n",
       "    <tr>\n",
       "      <th>18</th>\n",
       "      <td>0.048660</td>\n",
       "      <td>0.042976</td>\n",
       "      <td>0.026673</td>\n",
       "      <td>medium</td>\n",
       "      <td>linear</td>\n",
       "      <td>linear</td>\n",
       "    </tr>\n",
       "    <tr>\n",
       "      <th>19</th>\n",
       "      <td>0.051745</td>\n",
       "      <td>0.055053</td>\n",
       "      <td>0.028835</td>\n",
       "      <td>medium</td>\n",
       "      <td>linear</td>\n",
       "      <td>quad</td>\n",
       "    </tr>\n",
       "    <tr>\n",
       "      <th>20</th>\n",
       "      <td>550.107833</td>\n",
       "      <td>15.040271</td>\n",
       "      <td>52.545975</td>\n",
       "      <td>medium</td>\n",
       "      <td>linear</td>\n",
       "      <td>nl</td>\n",
       "    </tr>\n",
       "    <tr>\n",
       "      <th>21</th>\n",
       "      <td>0.049834</td>\n",
       "      <td>0.051526</td>\n",
       "      <td>0.031986</td>\n",
       "      <td>medium</td>\n",
       "      <td>quad</td>\n",
       "      <td>linear</td>\n",
       "    </tr>\n",
       "    <tr>\n",
       "      <th>22</th>\n",
       "      <td>0.036020</td>\n",
       "      <td>0.038850</td>\n",
       "      <td>0.018300</td>\n",
       "      <td>medium</td>\n",
       "      <td>quad</td>\n",
       "      <td>quad</td>\n",
       "    </tr>\n",
       "    <tr>\n",
       "      <th>23</th>\n",
       "      <td>10.445652</td>\n",
       "      <td>9.816494</td>\n",
       "      <td>292.273634</td>\n",
       "      <td>medium</td>\n",
       "      <td>quad</td>\n",
       "      <td>nl</td>\n",
       "    </tr>\n",
       "    <tr>\n",
       "      <th>24</th>\n",
       "      <td>0.025676</td>\n",
       "      <td>0.012672</td>\n",
       "      <td>0.013004</td>\n",
       "      <td>medium</td>\n",
       "      <td>trig</td>\n",
       "      <td>linear</td>\n",
       "    </tr>\n",
       "    <tr>\n",
       "      <th>25</th>\n",
       "      <td>0.025038</td>\n",
       "      <td>0.011528</td>\n",
       "      <td>0.011332</td>\n",
       "      <td>medium</td>\n",
       "      <td>trig</td>\n",
       "      <td>quad</td>\n",
       "    </tr>\n",
       "    <tr>\n",
       "      <th>26</th>\n",
       "      <td>16.049345</td>\n",
       "      <td>14.644593</td>\n",
       "      <td>25.066333</td>\n",
       "      <td>medium</td>\n",
       "      <td>trig</td>\n",
       "      <td>nl</td>\n",
       "    </tr>\n",
       "  </tbody>\n",
       "</table>\n",
       "</div>"
      ],
      "text/plain": [
       "           ipw       linear      kernel overlap_design pscore_design  \\\n",
       "0     0.070805     0.072725    0.036937           poor        linear   \n",
       "1     0.065158     0.065841    0.034757           poor        linear   \n",
       "2    10.795451    53.318741    7.584756           poor        linear   \n",
       "3     0.049695     0.058838    0.037490           poor          quad   \n",
       "4     0.034030     0.037625    0.023982           poor          quad   \n",
       "5   148.920867    18.837626   23.245381           poor          quad   \n",
       "6     0.025256     0.014743    0.012772           poor          trig   \n",
       "7     0.025579     0.011767    0.012002           poor          trig   \n",
       "8   273.425631  1259.884860    6.622388           poor          trig   \n",
       "9     0.033463     0.025798    0.016138           good        linear   \n",
       "10    0.029841     0.027713    0.015610           good        linear   \n",
       "11   20.792077    49.793379    5.701275           good        linear   \n",
       "12    0.030933     0.030153    0.018598           good          quad   \n",
       "13    0.024610     0.016354    0.013215           good          quad   \n",
       "14   21.566972    15.343937    7.662185           good          quad   \n",
       "15    0.023138     0.012415    0.012796           good          trig   \n",
       "16    0.024388     0.010935    0.012547           good          trig   \n",
       "17   67.157657     9.710085   16.848121           good          trig   \n",
       "18    0.048660     0.042976    0.026673         medium        linear   \n",
       "19    0.051745     0.055053    0.028835         medium        linear   \n",
       "20  550.107833    15.040271   52.545975         medium        linear   \n",
       "21    0.049834     0.051526    0.031986         medium          quad   \n",
       "22    0.036020     0.038850    0.018300         medium          quad   \n",
       "23   10.445652     9.816494  292.273634         medium          quad   \n",
       "24    0.025676     0.012672    0.013004         medium          trig   \n",
       "25    0.025038     0.011528    0.011332         medium          trig   \n",
       "26   16.049345    14.644593   25.066333         medium          trig   \n",
       "\n",
       "   outcome_design  \n",
       "0          linear  \n",
       "1            quad  \n",
       "2              nl  \n",
       "3          linear  \n",
       "4            quad  \n",
       "5              nl  \n",
       "6          linear  \n",
       "7            quad  \n",
       "8              nl  \n",
       "9          linear  \n",
       "10           quad  \n",
       "11             nl  \n",
       "12         linear  \n",
       "13           quad  \n",
       "14             nl  \n",
       "15         linear  \n",
       "16           quad  \n",
       "17             nl  \n",
       "18         linear  \n",
       "19           quad  \n",
       "20             nl  \n",
       "21         linear  \n",
       "22           quad  \n",
       "23             nl  \n",
       "24         linear  \n",
       "25           quad  \n",
       "26             nl  "
      ]
     },
     "execution_count": 20,
     "metadata": {},
     "output_type": "execute_result"
    }
   ],
   "source": [
    "import pandas as pd\n",
    "res_df = pd.DataFrame(\n",
    "[\n",
    "  list(product(['poor', 'good', 'medium'],\n",
    "               ['linear', 'quad', 'trig'],\n",
    "               ['linear', 'quad', 'nl'])),\n",
    "  [v for k, v in res_dict.items() if k.endswith(\"ipw\")],\n",
    "  [v for k, v in res_dict.items() if k.endswith(\"linear\")],\n",
    "  [v for k, v in res_dict.items() if k.endswith(\"kernel\")],\n",
    "],\n",
    ").T.infer_objects()\n",
    "res_df.columns = [\"design\", \"ipw\", \"linear\", \"kernel\"]\n",
    "# unpack design column\n",
    "res_df['overlap_design'] = res_df['design'].apply(lambda x: x[0])\n",
    "res_df['pscore_design'] = res_df['design'].apply(lambda x: x[1])\n",
    "res_df['outcome_design'] = res_df['design'].apply(lambda x: x[2])\n",
    "res_df.drop(columns=['design'], inplace=True)\n",
    "res_df"
   ]
  }
 ],
 "metadata": {
  "kernelspec": {
   "display_name": "py311",
   "language": "python",
   "name": "python3"
  },
  "language_info": {
   "codemirror_mode": {
    "name": "ipython",
    "version": 3
   },
   "file_extension": ".py",
   "mimetype": "text/x-python",
   "name": "python",
   "nbconvert_exporter": "python",
   "pygments_lexer": "ipython3",
   "version": "3.10.14"
  }
 },
 "nbformat": 4,
 "nbformat_minor": 4
}
