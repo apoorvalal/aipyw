{
 "cells": [
  {
   "cell_type": "code",
   "execution_count": 1,
   "metadata": {},
   "outputs": [],
   "source": [
    "import numpy as np\n",
    "import pandas as pd\n",
    "import sklearn\n",
    "import sklearn.pipeline as skpipe\n",
    "import celer as cel\n",
    "import matplotlib.pyplot as plt\n",
    "import statsmodels.api as sm\n",
    "\n",
    "# dml dgps\n",
    "from doubleml import datasets \n",
    "# this module\n",
    "from aipyw import aipyw"
   ]
  },
  {
   "cell_type": "code",
   "execution_count": 2,
   "metadata": {},
   "outputs": [
    {
     "data": {
      "text/plain": [
       "\u001b[0;31mInit signature:\u001b[0m \u001b[0maipyw\u001b[0m\u001b[0;34m(\u001b[0m\u001b[0my\u001b[0m\u001b[0;34m,\u001b[0m \u001b[0mw\u001b[0m\u001b[0;34m,\u001b[0m \u001b[0mX\u001b[0m\u001b[0;34m,\u001b[0m \u001b[0momod\u001b[0m\u001b[0;34m,\u001b[0m \u001b[0mpmod\u001b[0m\u001b[0;34m,\u001b[0m \u001b[0mnf\u001b[0m\u001b[0;34m=\u001b[0m\u001b[0;36m5\u001b[0m\u001b[0;34m,\u001b[0m \u001b[0mpslb\u001b[0m\u001b[0;34m=\u001b[0m\u001b[0;32mNone\u001b[0m\u001b[0;34m)\u001b[0m\u001b[0;34m\u001b[0m\u001b[0;34m\u001b[0m\u001b[0m\n",
       "\u001b[0;31mDocstring:\u001b[0m     \n",
       "Augmented Propensity Score Weighting for many discrete treatments.\n",
       "\n",
       "Class to fit the Augmented IPW estimator using arbitrary scikit learners.\n",
       "Extends the standard binary treatement estimator to K discrete treatments.\n",
       "For details on influence function, see Cattaneo (2010) JoE.\n",
       "\u001b[0;31mInit docstring:\u001b[0m\n",
       "Initialise an aipyw class that holds data and models.\n",
       "\n",
       "Args:\n",
       "                                y (N X 1 Numpy Array): Response vector\n",
       "                                w (N X 1 Numpy Array): Treatment vector (integer valued)\n",
       "                                X (N X K Numpy Array): Covariate Matrix\n",
       "                                omod (sklearn model object): Model object with .fit() and .predict() methods\n",
       "                                pmod (sklearn model object): Model object with .fit() and .predict_proba() methods\n",
       "                                nf (int, optional): Number of folds for cross-fitting. Interpreted as no cross-fitting if nf=1 is passed. Defaults to 5.\n",
       "                                pslb (Float, optional): Lower-bound for propensity score. Use for trimming extreme pscore values.\n",
       "\u001b[0;31mFile:\u001b[0m           ~/Desktop/code/00_causal/01aipyw/aipyw.py\n",
       "\u001b[0;31mType:\u001b[0m           type\n",
       "\u001b[0;31mSubclasses:\u001b[0m     \n"
      ]
     },
     "metadata": {},
     "output_type": "display_data"
    }
   ],
   "source": [
    "aipyw?"
   ]
  },
  {
   "cell_type": "code",
   "execution_count": 3,
   "metadata": {},
   "outputs": [
    {
     "data": {
      "text/plain": [
       "\u001b[0;31mSignature:\u001b[0m \u001b[0maipyw\u001b[0m\u001b[0;34m.\u001b[0m\u001b[0msummary\u001b[0m\u001b[0;34m(\u001b[0m\u001b[0mself\u001b[0m\u001b[0;34m,\u001b[0m \u001b[0mlb\u001b[0m\u001b[0;34m=\u001b[0m\u001b[0;32mNone\u001b[0m\u001b[0;34m,\u001b[0m \u001b[0mcritval\u001b[0m\u001b[0;34m=\u001b[0m\u001b[0;36m1.96\u001b[0m\u001b[0;34m)\u001b[0m\u001b[0;34m\u001b[0m\u001b[0;34m\u001b[0m\u001b[0m\n",
       "\u001b[0;31mDocstring:\u001b[0m\n",
       "summarise aipyw model fit. Computes causal contrasts between 0th level (assumed to be control)\n",
       "        and each other value of w (i.e. K-1 treatment effects if w has K levels).\n",
       "\n",
       "Args:\n",
       "        lb (float, optional):                           Lower bound on propensity score for trimming.\n",
       "                                                                                Defaults to None, which corresponds with ATE. Nonzero values no longer target ATE.\n",
       "        critval (float, optional):                      Normal distribution critical values for confidencei intervals. Defaults to 1.96.\n",
       "\u001b[0;31mFile:\u001b[0m      ~/Desktop/code/00_causal/01aipyw/aipyw.py\n",
       "\u001b[0;31mType:\u001b[0m      function\n"
      ]
     },
     "metadata": {},
     "output_type": "display_data"
    }
   ],
   "source": [
    "aipyw.summary?"
   ]
  },
  {
   "cell_type": "markdown",
   "metadata": {},
   "source": [
    "# Demo\n",
    "\n",
    "## generate some synthetic data with OVB"
   ]
  },
  {
   "cell_type": "code",
   "execution_count": 4,
   "metadata": {},
   "outputs": [],
   "source": [
    "# make some data - true effect is 1\n",
    "X, y, w = datasets.make_irm_data(1000, theta=1, return_type='array')"
   ]
  },
  {
   "cell_type": "code",
   "execution_count": 5,
   "metadata": {},
   "outputs": [
    {
     "data": {
      "text/plain": [
       "1.5450945424582043"
      ]
     },
     "execution_count": 5,
     "metadata": {},
     "output_type": "execute_result"
    }
   ],
   "source": [
    "ppl = skpipe.Pipeline([\n",
    "\t('minmax', sklearn.preprocessing.MinMaxScaler()),\n",
    "\t('sieve',  sklearn.preprocessing.PolynomialFeatures(2)),\n",
    "])\n",
    "XX = ppl.fit_transform(X)\n",
    "\n",
    "# naive estimate is biased\n",
    "y[w==1].mean() - y[w==0].mean()"
   ]
  },
  {
   "cell_type": "markdown",
   "metadata": {},
   "source": [
    "Badly biased."
   ]
  },
  {
   "cell_type": "markdown",
   "metadata": {},
   "source": [
    "### AIPW"
   ]
  },
  {
   "cell_type": "code",
   "execution_count": 6,
   "metadata": {},
   "outputs": [
    {
     "name": "stdout",
     "output_type": "stream",
     "text": [
      "                                    ATE        SE  95% CI-LB  95% CI-UB\n",
      "Treat level 1 - Treat level 0  1.088954  0.068103   0.955472   1.222436\n",
      "CPU times: user 52.3 s, sys: 18.1 s, total: 1min 10s\n",
      "Wall time: 45 s\n"
     ]
    }
   ],
   "source": [
    "%%time\n",
    "doubledouble = aipyw(y, w, XX,\n",
    "                    # elastic net that also tunes mixing between lasso and ridge (with l1 ratio)\n",
    "                    omod = cel.ElasticNetCV(l1_ratio= [.5, .7, .9],\n",
    "                                            n_alphas=20, cv=5, n_jobs = 8),\n",
    "                    # support vector classifier with rbf kernel - handles nonlinearities like a champ\n",
    "                    pmod = sklearn.svm.SVC(gamma='auto', probability=True),\n",
    ")\n",
    "doubledouble.fit()\n",
    "doubledouble.summary()"
   ]
  },
  {
   "cell_type": "markdown",
   "metadata": {},
   "source": [
    "Better."
   ]
  },
  {
   "cell_type": "markdown",
   "metadata": {},
   "source": [
    "Say we want to examine overlap by plotting pscores. In a procedural programming approach (as is typical when programming R functions, `s3` methods notwithstanding), one has to accommodate for this possibility by explicitly returning the pscores object, else the pscores are lost after the function call. With everything stored in the object, however, as long as the relevant attributes are exposed (i.e. not protected with the dunder `__`), we have the pscore to hand even though we didn't return anything."
   ]
  },
  {
   "cell_type": "code",
   "execution_count": 7,
   "metadata": {},
   "outputs": [
    {
     "data": {
      "text/plain": [
       "(array([ 37.,  61.,  98., 115., 189., 206., 117.,  90.,  56.,  31.]),\n",
       " array([0.06653322, 0.15516855, 0.24380388, 0.3324392 , 0.42107453,\n",
       "        0.50970986, 0.59834519, 0.68698051, 0.77561584, 0.86425117,\n",
       "        0.9528865 ]),\n",
       " <BarContainer object of 10 artists>)"
      ]
     },
     "execution_count": 7,
     "metadata": {},
     "output_type": "execute_result"
    },
    {
     "data": {
      "image/png": "[encoded data removed]",
      "text/plain": [
       "<Figure size 640x480 with 1 Axes>"
      ]
     },
     "metadata": {},
     "output_type": "display_data"
    }
   ],
   "source": [
    "# pscores stored in .pi attribute; plot 2nd column because rows sum to one\n",
    "plt.hist(doubledouble.pi[:, 1])"
   ]
  }
 ],
 "metadata": {
  "kernelspec": {
   "display_name": "econometrics",
   "language": "python",
   "name": "econometrics"
  },
  "language_info": {
   "codemirror_mode": {
    "name": "ipython",
    "version": 3
   },
   "file_extension": ".py",
   "mimetype": "text/x-python",
   "name": "python",
   "nbconvert_exporter": "python",
   "pygments_lexer": "ipython3",
   "version": "3.9.13"
  }
 },
 "nbformat": 4,
 "nbformat_minor": 4
}
