{
 "cells": [
  {
   "cell_type": "code",
   "execution_count": 1,
   "metadata": {},
   "outputs": [],
   "source": [
    "import numpy as np\n",
    "import pandas as pd\n",
    "import sklearn\n",
    "import sklearn.pipeline as skpipe\n",
    "import celer as cel\n",
    "import matplotlib.pyplot as plt\n",
    "import statsmodels.api as sm\n",
    "\n",
    "# dml dgps\n",
    "from doubleml import datasets \n",
    "# this module\n",
    "from aipyw import aipyw\n"
   ]
  },
  {
   "cell_type": "markdown",
   "metadata": {},
   "source": [
    "## generate some synthetic data with OVB"
   ]
  },
  {
   "cell_type": "code",
   "execution_count": 2,
   "metadata": {},
   "outputs": [],
   "source": [
    "# make some data - true effect is 1\n",
    "X, y, w = datasets.make_irm_data(1_000, theta=1, return_type='array')"
   ]
  },
  {
   "cell_type": "code",
   "execution_count": 3,
   "metadata": {},
   "outputs": [
    {
     "data": {
      "text/plain": [
       "1.5326252413874115"
      ]
     },
     "execution_count": 3,
     "metadata": {},
     "output_type": "execute_result"
    }
   ],
   "source": [
    "ppl = skpipe.Pipeline([\n",
    "\t('minmax', sklearn.preprocessing.MinMaxScaler()),\n",
    "\t('sieve',  sklearn.preprocessing.PolynomialFeatures(2)),\n",
    "])\n",
    "XX = ppl.fit_transform(X)\n",
    "\n",
    "# naive estimate is biased\n",
    "y[w==1].mean() - y[w==0].mean()"
   ]
  },
  {
   "cell_type": "markdown",
   "metadata": {},
   "source": [
    "Badly biased."
   ]
  },
  {
   "cell_type": "markdown",
   "metadata": {},
   "source": [
    "### Regression adjustment"
   ]
  },
  {
   "cell_type": "code",
   "execution_count": 4,
   "metadata": {},
   "outputs": [
    {
     "data": {
      "text/plain": [
       "0.9118774657828757"
      ]
     },
     "execution_count": 4,
     "metadata": {},
     "output_type": "execute_result"
    }
   ],
   "source": [
    "sm.OLS(y, np.c_[np.repeat(1, w.shape[0]), w, X],).fit(vcov_type = \"HC2\").params[1]"
   ]
  },
  {
   "cell_type": "markdown",
   "metadata": {},
   "source": [
    "Also biased."
   ]
  },
  {
   "cell_type": "markdown",
   "metadata": {},
   "source": [
    "### AIPW"
   ]
  },
  {
   "cell_type": "code",
   "execution_count": 8,
   "metadata": {},
   "outputs": [
    {
     "name": "stdout",
     "output_type": "stream",
     "text": [
      "Poor overlap - some pscores are < 0.02; Either call summary() with a trimming threshold \n",
      " or change the estimand to ATT.\n",
      "                                    ATE        SE  95% CI-LB  95% CI-UB\n",
      "Treat level 1 - Treat level 0  1.062369  0.071074   0.923063   1.201675\n"
     ]
    }
   ],
   "source": [
    "# pmod = sklearn.svm.SVC(gamma='auto', probability=True)\n",
    "doubledouble = aipyw(y, w, XX,\n",
    "                    omod = cel.ElasticNetCV(l1_ratio= [.5, .7, .9],\n",
    "                                            n_alphas=20, cv=5, n_jobs = 8),\n",
    "                    pmod = cel.LogisticRegression(C=1)\n",
    ")\n",
    "doubledouble.fit()\n",
    "doubledouble.summary()"
   ]
  },
  {
   "cell_type": "code",
   "execution_count": 7,
   "metadata": {},
   "outputs": [
    {
     "name": "stdout",
     "output_type": "stream",
     "text": [
      "                                    ATE        SE  95% CI-LB  95% CI-UB\n",
      "Treat level 1 - Treat level 0  1.073689  0.074892   0.926902   1.220477\n"
     ]
    }
   ],
   "source": [
    "from sklearn.ensemble import RandomForestRegressor, RandomForestClassifier\n",
    "doubledouble2 = aipyw(y, w, XX,\n",
    "                    omod = RandomForestRegressor(),\n",
    "                    pmod = RandomForestClassifier(),\n",
    ")\n",
    "doubledouble2.fit()\n",
    "doubledouble2.summary()"
   ]
  },
  {
   "cell_type": "markdown",
   "metadata": {},
   "source": [
    "Better."
   ]
  }
 ],
 "metadata": {
  "kernelspec": {
   "display_name": "econometrics",
   "language": "python",
   "name": "econometrics"
  },
  "language_info": {
   "codemirror_mode": {
    "name": "ipython",
    "version": 3
   },
   "file_extension": ".py",
   "mimetype": "text/x-python",
   "name": "python",
   "nbconvert_exporter": "python",
   "pygments_lexer": "ipython3",
   "version": "3.9.13"
  },
  "orig_nbformat": 4
 },
 "nbformat": 4,
 "nbformat_minor": 2
}
