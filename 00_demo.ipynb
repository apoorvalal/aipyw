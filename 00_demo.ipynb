{
 "cells": [
  {
   "cell_type": "code",
   "execution_count": 1,
   "metadata": {},
   "outputs": [],
   "source": [
    "import numpy as np\n",
    "import pandas as pd\n",
    "import sklearn\n",
    "import sklearn.pipeline as skpipe\n",
    "import celer as cel\n",
    "import matplotlib.pyplot as plt\n",
    "import statsmodels.api as sm\n",
    "\n",
    "# dml dgps\n",
    "from doubleml import datasets\n",
    "# this module\n",
    "from aipyw import AIPyW\n",
    "from aipyw.dgp import dgp_binary, dgp_discrete\n",
    "\n",
    "from xgboost import XGBClassifier, XGBRegressor\n",
    "np.random.seed(42)"
   ]
  },
  {
   "cell_type": "code",
   "execution_count": 2,
   "metadata": {},
   "outputs": [
    {
     "name": "stdout",
     "output_type": "stream",
     "text": [
      "\u001b[0;31mInit signature:\u001b[0m \u001b[0mAIPyW\u001b[0m\u001b[0;34m(\u001b[0m\u001b[0my\u001b[0m\u001b[0;34m,\u001b[0m \u001b[0mw\u001b[0m\u001b[0;34m,\u001b[0m \u001b[0mX\u001b[0m\u001b[0;34m,\u001b[0m \u001b[0momod\u001b[0m\u001b[0;34m,\u001b[0m \u001b[0mpmod\u001b[0m\u001b[0;34m,\u001b[0m \u001b[0mnf\u001b[0m\u001b[0;34m=\u001b[0m\u001b[0;36m2\u001b[0m\u001b[0;34m,\u001b[0m \u001b[0mpslb\u001b[0m\u001b[0;34m=\u001b[0m\u001b[0;32mNone\u001b[0m\u001b[0;34m)\u001b[0m\u001b[0;34m\u001b[0m\u001b[0;34m\u001b[0m\u001b[0m\n",
      "\u001b[0;31mDocstring:\u001b[0m     \n",
      "Augmented Propensity Score Weighting for many discrete treatments.\n",
      "\n",
      "Class to fit the Augmented IPW estimator using arbitrary scikit learners.\n",
      "Extends the standard binary treatement estimator to K discrete treatments.\n",
      "For details on the influence function, see Cattaneo (2010) JoE.\n",
      "\u001b[0;31mInit docstring:\u001b[0m\n",
      "Initialise an aipyw class that holds data and models.\n",
      "\n",
      "Args:\n",
      "                                y (N X 1 Numpy Array): Response vector\n",
      "                                w (N X 1 Numpy Array): Treatment vector (integer valued)\n",
      "                                X (N X K Numpy Array): Covariate Matrix\n",
      "                                omod (sklearn model object): Model object with .fit() and .predict() methods\n",
      "                                pmod (sklearn model object): Model object with .fit() and .predict_proba() methods\n",
      "                                nf (int, optional): Number of folds for cross-fitting. Interpreted as no cross-fitting if nf=1 is passed. Defaults to 5.\n",
      "                                pslb (Float, optional): Lower-bound for propensity score. Use for trimming extreme pscore values.\n",
      "\u001b[0;31mFile:\u001b[0m           ~/Desktop/aipyw/aipyw/aipyw.py\n",
      "\u001b[0;31mType:\u001b[0m           type\n",
      "\u001b[0;31mSubclasses:\u001b[0m     "
     ]
    }
   ],
   "source": [
    "AIPyW?"
   ]
  },
  {
   "cell_type": "markdown",
   "metadata": {},
   "source": [
    "# Demo\n",
    "\n",
    "## Binary Treatment"
   ]
  },
  {
   "cell_type": "code",
   "execution_count": 3,
   "metadata": {},
   "outputs": [
    {
     "data": {
      "text/plain": [
       "1.6645691739681896"
      ]
     },
     "execution_count": 3,
     "metadata": {},
     "output_type": "execute_result"
    }
   ],
   "source": [
    "#######################################################################\n",
    "# make some data - true effect is 1\n",
    "X, y, w = datasets.make_irm_data(1_000, theta=1, return_type='array')\n",
    "# naive estimate is biased\n",
    "y[w==1].mean() - y[w==0].mean()"
   ]
  },
  {
   "cell_type": "code",
   "execution_count": 4,
   "metadata": {},
   "outputs": [
    {
     "name": "stdout",
     "output_type": "stream",
     "text": [
      "Poor overlap - some pscores are < 0.02; Either call summary() with a trimming threshold as lb \n",
      " or change the estimand to ATT.\n",
      "                                   ATE        SE  95% CI-LB  95% CI-UB\n",
      "Treat level 1 - Treat level 0  1.17469  0.085676   1.006766   1.342614\n"
     ]
    }
   ],
   "source": [
    "# scale to unit interval and sieve\n",
    "ppl = skpipe.Pipeline([\n",
    "\t('minmax', sklearn.preprocessing.MinMaxScaler()),\n",
    "\t('sieve',  sklearn.preprocessing.PolynomialFeatures(2)),\n",
    "])\n",
    "XX = ppl.fit_transform(X)\n",
    "#######################################################################\n",
    "# initialise it with data and model objects\n",
    "doubledouble = AIPyW(y, w, XX,\n",
    "                    omod = cel.ElasticNetCV(l1_ratio= [.5, .7, .9],\n",
    "                                            n_alphas=20, cv=5, n_jobs = 8),\n",
    "                    pmod = cel.LogisticRegression(C=1)\n",
    ")\n",
    "# fit\n",
    "doubledouble.fit()\n",
    "# summarise\n",
    "doubledouble.summary()\n"
   ]
  },
  {
   "cell_type": "markdown",
   "metadata": {},
   "source": [
    "## Discrete Treatments"
   ]
  },
  {
   "cell_type": "code",
   "execution_count": 6,
   "metadata": {},
   "outputs": [],
   "source": [
    "Y, D, X = dgp_discrete(\n",
    "    n=1_000_000,\n",
    "    p=4,\n",
    "    treat_effects=np.array([0.0, 0.4, 0.5, 0.55]),\n",
    ")"
   ]
  },
  {
   "cell_type": "code",
   "execution_count": 7,
   "metadata": {},
   "outputs": [
    {
     "data": {
      "text/plain": [
       "(-0.6615591580053521, 1.8474127990739704, 1.7700781434662345)"
      ]
     },
     "execution_count": 7,
     "metadata": {},
     "output_type": "execute_result"
    }
   ],
   "source": [
    "(Y[D == 1,].mean() - Y[D == 0,].mean(),\n",
    "  Y[D == 2,].mean() - Y[D == 0,].mean(),\n",
    "  Y[D == 3,].mean() - Y[D == 0,].mean()\n",
    ")"
   ]
  },
  {
   "cell_type": "markdown",
   "metadata": {},
   "source": [
    "Naive estimates badly biased."
   ]
  },
  {
   "cell_type": "code",
   "execution_count": 8,
   "metadata": {},
   "outputs": [],
   "source": [
    "regmod = XGBRegressor(learning_rate=0.1, n_jobs = 6)\n",
    "psmod = XGBClassifier(learning_rate=0.1, n_jobs = 6)"
   ]
  },
  {
   "cell_type": "code",
   "execution_count": 9,
   "metadata": {},
   "outputs": [
    {
     "name": "stdout",
     "output_type": "stream",
     "text": [
      "Poor overlap - some pscores are < 0.02; Either call summary() with a trimming threshold as lb \n",
      " or change the estimand to ATT.\n",
      "                                    ATE        SE  95% CI-LB  95% CI-UB\n",
      "Treat level 1 - Treat level 0  0.376561  0.001700   0.373228   0.379894\n",
      "Treat level 2 - Treat level 0  0.775688  0.001568   0.772615   0.778761\n",
      "Treat level 3 - Treat level 0  0.881498  0.001797   0.877977   0.885020\n",
      "CPU times: user 1min 23s, sys: 1.29 s, total: 1min 25s\n",
      "Wall time: 20.9 s\n"
     ]
    }
   ],
   "source": [
    "\n",
    "%%time\n",
    "doubledouble2 = AIPyW(Y, D, X,\n",
    "                    omod = regmod,\n",
    "                    pmod = psmod,\n",
    ")\n",
    "doubledouble2.fit()\n",
    "doubledouble2.summary()"
   ]
  }
 ],
 "metadata": {
  "kernelspec": {
   "display_name": "py311",
   "language": "python",
   "name": "python3"
  },
  "language_info": {
   "codemirror_mode": {
    "name": "ipython",
    "version": 3
   },
   "file_extension": ".py",
   "mimetype": "text/x-python",
   "name": "python",
   "nbconvert_exporter": "python",
   "pygments_lexer": "ipython3",
   "version": "3.11.7"
  }
 },
 "nbformat": 4,
 "nbformat_minor": 4
}
