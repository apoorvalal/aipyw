{
 "cells": [
  {
   "cell_type": "code",
   "execution_count": 1,
   "metadata": {},
   "outputs": [],
   "source": [
    "import numpy as np\n",
    "import sklearn\n",
    "import sklearn.pipeline as skpipe\n",
    "# learners\n",
    "import celer as cel\n",
    "from lightgbm import LGBMClassifier, LGBMRegressor\n",
    "\n",
    "# this module\n",
    "from aipyw import AIPyW\n",
    "from aipyw.dgp import dgp_binary, dgp_discrete, hainmueller\n",
    "\n",
    "np.random.seed(42)"
   ]
  },
  {
   "cell_type": "markdown",
   "metadata": {},
   "source": [
    "# Basic Demo\n"
   ]
  },
  {
   "cell_type": "markdown",
   "metadata": {},
   "source": [
    "## Discrete Treatments"
   ]
  },
  {
   "cell_type": "code",
   "execution_count": 2,
   "metadata": {},
   "outputs": [
    {
     "data": {
      "text/plain": [
       "((100000,), (100000,), (100000, 10))"
      ]
     },
     "execution_count": 2,
     "metadata": {},
     "output_type": "execute_result"
    }
   ],
   "source": [
    "Y, D, X = dgp_discrete(\n",
    "    n=100_000,\n",
    "    p=4,\n",
    "    treat_effects=np.array([0.0, 0.4, 0.5, 0.55]),\n",
    ")\n",
    "Y.shape, D.shape, X.shape"
   ]
  },
  {
   "cell_type": "code",
   "execution_count": 3,
   "metadata": {},
   "outputs": [
    {
     "data": {
      "text/plain": [
       "(np.float64(-2.459176579755844),\n",
       " np.float64(0.9312130397763212),\n",
       " np.float64(2.8166707333716685))"
      ]
     },
     "execution_count": 3,
     "metadata": {},
     "output_type": "execute_result"
    }
   ],
   "source": [
    "(Y[D == 1,].mean() - Y[D == 0,].mean(),\n",
    "  Y[D == 2,].mean() - Y[D == 0,].mean(),\n",
    "  Y[D == 3,].mean() - Y[D == 0,].mean()\n",
    ")"
   ]
  },
  {
   "cell_type": "markdown",
   "metadata": {},
   "source": [
    "Naive estimates badly biased."
   ]
  },
  {
   "cell_type": "code",
   "execution_count": 4,
   "metadata": {},
   "outputs": [
    {
     "name": "stdout",
     "output_type": "stream",
     "text": [
      "CPU times: user 7.6 s, sys: 42.6 ms, total: 7.65 s\n",
      "Wall time: 570 ms\n"
     ]
    },
    {
     "data": {
      "text/plain": [
       "{'1 vs 0': {'effect': np.float64(0.3993327187181337),\n",
       "  'se': np.float64(1.1326191260309973e-05)},\n",
       " '2 vs 0': {'effect': np.float64(0.5002251443946422),\n",
       "  'se': np.float64(1.2632634887430513e-05)},\n",
       " '3 vs 0': {'effect': np.float64(0.5520125191219095),\n",
       "  'se': np.float64(1.316455977270563e-05)},\n",
       " '2 vs 1': {'effect': np.float64(0.10089242567650843),\n",
       "  'se': np.float64(1.271426174924722e-05)},\n",
       " '3 vs 1': {'effect': np.float64(0.1526798004037758),\n",
       "  'se': np.float64(1.1282258005654327e-05)},\n",
       " '3 vs 2': {'effect': np.float64(0.051787374727267396),\n",
       "  'se': np.float64(1.3206565735523708e-05)}}"
      ]
     },
     "execution_count": 4,
     "metadata": {},
     "output_type": "execute_result"
    }
   ],
   "source": [
    "%%time\n",
    "doubledouble3 = AIPyW(riesz_method=\"ipw\")\n",
    "doubledouble3.fit(X, D, Y)\n",
    "doubledouble3.summary()"
   ]
  },
  {
   "cell_type": "code",
   "execution_count": 5,
   "metadata": {},
   "outputs": [
    {
     "name": "stdout",
     "output_type": "stream",
     "text": [
      "CPU times: user 1min 2s, sys: 212 ms, total: 1min 2s\n",
      "Wall time: 4.06 s\n"
     ]
    },
    {
     "data": {
      "text/plain": [
       "{'1 vs 0': {'effect': np.float64(0.3440241782297518),\n",
       "  'se': np.float64(0.00031759006244523954)},\n",
       " '2 vs 0': {'effect': np.float64(0.43320743886748597),\n",
       "  'se': np.float64(0.00032485666524239936)},\n",
       " '3 vs 0': {'effect': np.float64(0.47547790412244395),\n",
       "  'se': np.float64(0.0003325522904819936)},\n",
       " '2 vs 1': {'effect': np.float64(0.08918326063773419),\n",
       "  'se': np.float64(0.00024092384230735961)},\n",
       " '3 vs 1': {'effect': np.float64(0.13145372589269216),\n",
       "  'se': np.float64(0.0002638624008049813)},\n",
       " '3 vs 2': {'effect': np.float64(0.042270465254957965),\n",
       "  'se': np.float64(0.0002683575335978814)}}"
      ]
     },
     "execution_count": 5,
     "metadata": {},
     "output_type": "execute_result"
    }
   ],
   "source": [
    "%%time\n",
    "doubledouble3 = AIPyW(riesz_method=\"linear\")\n",
    "doubledouble3.fit(X, D, Y)\n",
    "doubledouble3.summary()"
   ]
  },
  {
   "cell_type": "code",
   "execution_count": 6,
   "metadata": {},
   "outputs": [
    {
     "name": "stdout",
     "output_type": "stream",
     "text": [
      "CPU times: user 11.2 s, sys: 15.7 ms, total: 11.2 s\n",
      "Wall time: 792 ms\n"
     ]
    },
    {
     "data": {
      "text/plain": [
       "{'1 vs 0': {'effect': np.float64(0.3992624833348587),\n",
       "  'se': np.float64(1.1131571660979226e-05)},\n",
       " '2 vs 0': {'effect': np.float64(0.4999967519495474),\n",
       "  'se': np.float64(1.2429734209405745e-05)},\n",
       " '3 vs 0': {'effect': np.float64(0.55194785160569),\n",
       "  'se': np.float64(1.3086491593015786e-05)},\n",
       " '2 vs 1': {'effect': np.float64(0.10073426861468866),\n",
       "  'se': np.float64(1.26949544159626e-05)},\n",
       " '3 vs 1': {'effect': np.float64(0.15268536827083137),\n",
       "  'se': np.float64(1.13142418777214e-05)},\n",
       " '3 vs 2': {'effect': np.float64(0.05195109965614269),\n",
       "  'se': np.float64(1.3205131515576768e-05)}}"
      ]
     },
     "execution_count": 6,
     "metadata": {},
     "output_type": "execute_result"
    }
   ],
   "source": [
    "%%time\n",
    "doubledouble3 = AIPyW(riesz_method=\"balancing\", bal_obj=\"quadratic\")\n",
    "doubledouble3.fit(X, D, Y)\n",
    "doubledouble3.summary()"
   ]
  },
  {
   "cell_type": "markdown",
   "metadata": {},
   "source": [
    "## Hainmueller (2012) Simulation study\n",
    "\n",
    "Binary treatment, continuous outcome, 2 groups. We parametrize degree of overlap, functional form of outcome and treatment models. True effect is zero, so RMSE is easy to calculate."
   ]
  },
  {
   "cell_type": "code",
   "execution_count": 7,
   "metadata": {},
   "outputs": [],
   "source": [
    "def one_rep(\n",
    "    n_samples, overlap_design, pscore_design, outcome_design, riesz_method, **kwargs\n",
    "):\n",
    "    # generate data\n",
    "    y, d, X = hainmueller(\n",
    "        n_samples=n_samples,\n",
    "        overlap_design=overlap_design,\n",
    "        pscore_design=pscore_design,\n",
    "        outcome_design=outcome_design,\n",
    "    )\n",
    "    m1, m2 = LGBMRegressor(verbose=-1, n_jobs=1), LGBMClassifier(verbose=-1, n_jobs=1)\n",
    "    # model instantiation\n",
    "    aipw = AIPyW(\n",
    "        propensity_model=m2, outcome_model=m1, riesz_method=riesz_method, **kwargs\n",
    "    )\n",
    "    aipw.fit(X, d, y, n_rff=100)\n",
    "    return aipw.summary()[\"1 vs 0\"][\"effect\"]"
   ]
  },
  {
   "cell_type": "markdown",
   "metadata": {},
   "source": [
    "Favorable case: good overlap, linear pscore and outcome"
   ]
  },
  {
   "cell_type": "code",
   "execution_count": 8,
   "metadata": {},
   "outputs": [
    {
     "name": "stdout",
     "output_type": "stream",
     "text": [
      "CPU times: user 1.59 s, sys: 12 ms, total: 1.6 s\n",
      "Wall time: 495 ms\n"
     ]
    },
    {
     "data": {
      "text/plain": [
       "np.float64(0.02722229312316711)"
      ]
     },
     "execution_count": 8,
     "metadata": {},
     "output_type": "execute_result"
    }
   ],
   "source": [
    "%%time\n",
    "one_rep(10_000, 2, 1, 1, \"ipw\")"
   ]
  },
  {
   "cell_type": "code",
   "execution_count": 9,
   "metadata": {},
   "outputs": [
    {
     "name": "stdout",
     "output_type": "stream",
     "text": [
      "CPU times: user 594 ms, sys: 0 ns, total: 594 ms\n",
      "Wall time: 327 ms\n"
     ]
    },
    {
     "data": {
      "text/plain": [
       "np.float64(0.006689004288240835)"
      ]
     },
     "execution_count": 9,
     "metadata": {},
     "output_type": "execute_result"
    }
   ],
   "source": [
    "%%time\n",
    "one_rep(10_000, 2, 1, 1, \"linear\")"
   ]
  },
  {
   "cell_type": "code",
   "execution_count": 10,
   "metadata": {},
   "outputs": [
    {
     "name": "stdout",
     "output_type": "stream",
     "text": [
      "CPU times: user 23.4 s, sys: 32.1 ms, total: 23.5 s\n",
      "Wall time: 1.73 s\n"
     ]
    },
    {
     "data": {
      "text/plain": [
       "np.float64(-0.0032402673454760135)"
      ]
     },
     "execution_count": 10,
     "metadata": {},
     "output_type": "execute_result"
    }
   ],
   "source": [
    "%%time\n",
    "one_rep(10_000, 2, 1, 1, \"kernel\")"
   ]
  },
  {
   "cell_type": "code",
   "execution_count": 11,
   "metadata": {},
   "outputs": [
    {
     "name": "stdout",
     "output_type": "stream",
     "text": [
      "CPU times: user 1.82 s, sys: 11.9 ms, total: 1.83 s\n",
      "Wall time: 364 ms\n"
     ]
    },
    {
     "data": {
      "text/plain": [
       "np.float64(0.02807227119629976)"
      ]
     },
     "execution_count": 11,
     "metadata": {},
     "output_type": "execute_result"
    }
   ],
   "source": [
    "%%time\n",
    "one_rep(10_000, 2, 1, 1, \"automatic\")"
   ]
  },
  {
   "cell_type": "code",
   "execution_count": 12,
   "metadata": {},
   "outputs": [
    {
     "name": "stdout",
     "output_type": "stream",
     "text": [
      "CPU times: user 279 ms, sys: 7.97 ms, total: 287 ms\n",
      "Wall time: 286 ms\n"
     ]
    },
    {
     "data": {
      "text/plain": [
       "np.float64(0.028048723082933033)"
      ]
     },
     "execution_count": 12,
     "metadata": {},
     "output_type": "execute_result"
    }
   ],
   "source": [
    "%%time\n",
    "one_rep(10_000, 2, 1, 1, \"balancing\")"
   ]
  },
  {
   "cell_type": "code",
   "execution_count": 13,
   "metadata": {},
   "outputs": [
    {
     "name": "stdout",
     "output_type": "stream",
     "text": [
      "CPU times: user 307 ms, sys: 0 ns, total: 307 ms\n",
      "Wall time: 307 ms\n"
     ]
    },
    {
     "data": {
      "text/plain": [
       "np.float64(-0.014473255833387634)"
      ]
     },
     "execution_count": 13,
     "metadata": {},
     "output_type": "execute_result"
    }
   ],
   "source": [
    "%%time\n",
    "one_rep(10_000, 2, 1, 1, \"balancing\", bal_obj=\"entropy\")"
   ]
  },
  {
   "cell_type": "markdown",
   "metadata": {},
   "source": [
    "### Hard case: poor overlap, non-linear pscore and outcome"
   ]
  },
  {
   "cell_type": "code",
   "execution_count": 14,
   "metadata": {},
   "outputs": [
    {
     "name": "stdout",
     "output_type": "stream",
     "text": [
      "CPU times: user 409 ms, sys: 8 ms, total: 417 ms\n",
      "Wall time: 417 ms\n"
     ]
    },
    {
     "data": {
      "text/plain": [
       "np.float64(-0.8496098275218612)"
      ]
     },
     "execution_count": 14,
     "metadata": {},
     "output_type": "execute_result"
    }
   ],
   "source": [
    "%%time\n",
    "one_rep(10_000, 1, 3, 3, \"ipw\")"
   ]
  },
  {
   "cell_type": "code",
   "execution_count": 15,
   "metadata": {},
   "outputs": [
    {
     "name": "stdout",
     "output_type": "stream",
     "text": [
      "CPU times: user 536 ms, sys: 3.86 ms, total: 540 ms\n",
      "Wall time: 318 ms\n"
     ]
    },
    {
     "data": {
      "text/plain": [
       "np.float64(0.8783186745465631)"
      ]
     },
     "execution_count": 15,
     "metadata": {},
     "output_type": "execute_result"
    }
   ],
   "source": [
    "%%time\n",
    "one_rep(10_000, 1, 3, 3, \"linear\")"
   ]
  },
  {
   "cell_type": "code",
   "execution_count": 16,
   "metadata": {},
   "outputs": [
    {
     "name": "stdout",
     "output_type": "stream",
     "text": [
      "CPU times: user 23 s, sys: 36 ms, total: 23 s\n",
      "Wall time: 1.69 s\n"
     ]
    },
    {
     "data": {
      "text/plain": [
       "np.float64(-2.280857509463784)"
      ]
     },
     "execution_count": 16,
     "metadata": {},
     "output_type": "execute_result"
    }
   ],
   "source": [
    "%%time\n",
    "one_rep(10_000, 1, 3, 3, \"kernel\")"
   ]
  },
  {
   "cell_type": "code",
   "execution_count": 17,
   "metadata": {},
   "outputs": [
    {
     "name": "stdout",
     "output_type": "stream",
     "text": [
      "CPU times: user 1.83 s, sys: 4.09 ms, total: 1.84 s\n",
      "Wall time: 330 ms\n"
     ]
    },
    {
     "data": {
      "text/plain": [
       "np.float64(0.05333008157288761)"
      ]
     },
     "execution_count": 17,
     "metadata": {},
     "output_type": "execute_result"
    }
   ],
   "source": [
    "%%time\n",
    "one_rep(10_000, 2, 1, 1, \"automatic\")"
   ]
  },
  {
   "cell_type": "code",
   "execution_count": 18,
   "metadata": {},
   "outputs": [
    {
     "name": "stdout",
     "output_type": "stream",
     "text": [
      "CPU times: user 279 ms, sys: 0 ns, total: 279 ms\n",
      "Wall time: 278 ms\n"
     ]
    },
    {
     "data": {
      "text/plain": [
       "np.float64(-1.9489090669045273)"
      ]
     },
     "execution_count": 18,
     "metadata": {},
     "output_type": "execute_result"
    }
   ],
   "source": [
    "%%time\n",
    "one_rep(10_000, 1, 3, 3, \"balancing\")"
   ]
  },
  {
   "cell_type": "code",
   "execution_count": 19,
   "metadata": {},
   "outputs": [
    {
     "name": "stdout",
     "output_type": "stream",
     "text": [
      "CPU times: user 307 ms, sys: 3.99 ms, total: 311 ms\n",
      "Wall time: 310 ms\n"
     ]
    },
    {
     "data": {
      "text/plain": [
       "np.float64(0.18399876550618385)"
      ]
     },
     "execution_count": 19,
     "metadata": {},
     "output_type": "execute_result"
    }
   ],
   "source": [
    "%%time\n",
    "one_rep(10_000, 1, 3, 3, \"balancing\", bal_obj=\"entropy\")"
   ]
  },
  {
   "cell_type": "markdown",
   "metadata": {},
   "source": [
    "### all together"
   ]
  },
  {
   "cell_type": "code",
   "execution_count": 20,
   "metadata": {},
   "outputs": [],
   "source": [
    "from joblib import Parallel, delayed\n",
    "\n",
    "def compute_ate_rmse_parallel(\n",
    "    n_samples,\n",
    "    overlap_design,\n",
    "    pscore_design,\n",
    "    outcome_design,\n",
    "    riesz_method,\n",
    "    n_replications=100,\n",
    "    n_jobs=-1,\n",
    "):\n",
    "    ate_estimates = Parallel(n_jobs=n_jobs)(\n",
    "        delayed(one_rep)(\n",
    "            n_samples, overlap_design, pscore_design, outcome_design, riesz_method\n",
    "        )\n",
    "        for _ in range(n_replications)\n",
    "    )\n",
    "    # Compute RMSE\n",
    "    true_ate = 0\n",
    "    rmse = np.sqrt(np.mean((np.array(ate_estimates) - true_ate) ** 2))\n",
    "    return rmse"
   ]
  },
  {
   "cell_type": "code",
   "execution_count": 21,
   "metadata": {},
   "outputs": [
    {
     "name": "stdout",
     "output_type": "stream",
     "text": [
      "CPU times: user 24 s, sys: 3 s, total: 27 s\n",
      "Wall time: 16min 24s\n"
     ]
    }
   ],
   "source": [
    "%%time\n",
    "from itertools import product\n",
    "params = np.arange(1, 4)\n",
    "param_list = list(product(params, params, params, ['ipw', 'linear', 'kernel', 'automatic', 'balancing']))\n",
    "res_dict = {}\n",
    "for param in param_list:\n",
    "  key = \"_\".join([str(x) for x in param])\n",
    "  res_dict[key] = compute_ate_rmse_parallel(10_000, *param)"
   ]
  },
  {
   "cell_type": "code",
   "execution_count": 30,
   "metadata": {},
   "outputs": [
    {
     "data": {
      "text/html": [
       "<div>\n",
       "<style scoped>\n",
       "    .dataframe tbody tr th:only-of-type {\n",
       "        vertical-align: middle;\n",
       "    }\n",
       "\n",
       "    .dataframe tbody tr th {\n",
       "        vertical-align: top;\n",
       "    }\n",
       "\n",
       "    .dataframe thead th {\n",
       "        text-align: right;\n",
       "    }\n",
       "</style>\n",
       "<table border=\"1\" class=\"dataframe\">\n",
       "  <thead>\n",
       "    <tr style=\"text-align: right;\">\n",
       "      <th></th>\n",
       "      <th>ipw</th>\n",
       "      <th>linear</th>\n",
       "      <th>kernel</th>\n",
       "      <th>automatic</th>\n",
       "      <th>constrained</th>\n",
       "      <th>overlap_design</th>\n",
       "      <th>pscore_design</th>\n",
       "      <th>outcome_design</th>\n",
       "    </tr>\n",
       "  </thead>\n",
       "  <tbody>\n",
       "    <tr>\n",
       "      <th>0</th>\n",
       "      <td>0.068541</td>\n",
       "      <td>0.072096</td>\n",
       "      <td>0.035293</td>\n",
       "      <td>0.069347</td>\n",
       "      <td>0.066208</td>\n",
       "      <td>poor</td>\n",
       "      <td>linear</td>\n",
       "      <td>linear</td>\n",
       "    </tr>\n",
       "    <tr>\n",
       "      <th>1</th>\n",
       "      <td>0.065166</td>\n",
       "      <td>0.067032</td>\n",
       "      <td>0.034373</td>\n",
       "      <td>0.060328</td>\n",
       "      <td>0.066015</td>\n",
       "      <td>poor</td>\n",
       "      <td>linear</td>\n",
       "      <td>quad</td>\n",
       "    </tr>\n",
       "    <tr>\n",
       "      <th>2</th>\n",
       "      <td>13.757359</td>\n",
       "      <td>244.357287</td>\n",
       "      <td>8.889775</td>\n",
       "      <td>13.788107</td>\n",
       "      <td>31.737481</td>\n",
       "      <td>poor</td>\n",
       "      <td>linear</td>\n",
       "      <td>nl</td>\n",
       "    </tr>\n",
       "    <tr>\n",
       "      <th>3</th>\n",
       "      <td>0.054535</td>\n",
       "      <td>0.058653</td>\n",
       "      <td>0.034903</td>\n",
       "      <td>0.050918</td>\n",
       "      <td>0.055132</td>\n",
       "      <td>poor</td>\n",
       "      <td>quad</td>\n",
       "      <td>linear</td>\n",
       "    </tr>\n",
       "    <tr>\n",
       "      <th>4</th>\n",
       "      <td>0.038028</td>\n",
       "      <td>0.037660</td>\n",
       "      <td>0.021047</td>\n",
       "      <td>0.034115</td>\n",
       "      <td>0.037029</td>\n",
       "      <td>poor</td>\n",
       "      <td>quad</td>\n",
       "      <td>quad</td>\n",
       "    </tr>\n",
       "    <tr>\n",
       "      <th>5</th>\n",
       "      <td>10.769637</td>\n",
       "      <td>18.661587</td>\n",
       "      <td>26.108551</td>\n",
       "      <td>16.527473</td>\n",
       "      <td>61.495745</td>\n",
       "      <td>poor</td>\n",
       "      <td>quad</td>\n",
       "      <td>nl</td>\n",
       "    </tr>\n",
       "    <tr>\n",
       "      <th>6</th>\n",
       "      <td>0.024235</td>\n",
       "      <td>0.013379</td>\n",
       "      <td>0.009697</td>\n",
       "      <td>0.023839</td>\n",
       "      <td>0.025364</td>\n",
       "      <td>poor</td>\n",
       "      <td>trig</td>\n",
       "      <td>linear</td>\n",
       "    </tr>\n",
       "    <tr>\n",
       "      <th>7</th>\n",
       "      <td>0.024825</td>\n",
       "      <td>0.013214</td>\n",
       "      <td>0.011292</td>\n",
       "      <td>0.024514</td>\n",
       "      <td>0.022038</td>\n",
       "      <td>poor</td>\n",
       "      <td>trig</td>\n",
       "      <td>quad</td>\n",
       "    </tr>\n",
       "    <tr>\n",
       "      <th>8</th>\n",
       "      <td>13.712767</td>\n",
       "      <td>29.897234</td>\n",
       "      <td>6.162583</td>\n",
       "      <td>257.859393</td>\n",
       "      <td>24.983811</td>\n",
       "      <td>poor</td>\n",
       "      <td>trig</td>\n",
       "      <td>nl</td>\n",
       "    </tr>\n",
       "    <tr>\n",
       "      <th>9</th>\n",
       "      <td>0.035194</td>\n",
       "      <td>0.023804</td>\n",
       "      <td>0.017070</td>\n",
       "      <td>0.035736</td>\n",
       "      <td>0.033273</td>\n",
       "      <td>good</td>\n",
       "      <td>linear</td>\n",
       "      <td>linear</td>\n",
       "    </tr>\n",
       "    <tr>\n",
       "      <th>10</th>\n",
       "      <td>0.030257</td>\n",
       "      <td>0.025813</td>\n",
       "      <td>0.015421</td>\n",
       "      <td>0.024407</td>\n",
       "      <td>0.029188</td>\n",
       "      <td>good</td>\n",
       "      <td>linear</td>\n",
       "      <td>quad</td>\n",
       "    </tr>\n",
       "    <tr>\n",
       "      <th>11</th>\n",
       "      <td>30.935014</td>\n",
       "      <td>12.271694</td>\n",
       "      <td>247.731037</td>\n",
       "      <td>145.926978</td>\n",
       "      <td>129.896145</td>\n",
       "      <td>good</td>\n",
       "      <td>linear</td>\n",
       "      <td>nl</td>\n",
       "    </tr>\n",
       "    <tr>\n",
       "      <th>12</th>\n",
       "      <td>0.033868</td>\n",
       "      <td>0.025650</td>\n",
       "      <td>0.021227</td>\n",
       "      <td>0.035910</td>\n",
       "      <td>0.032039</td>\n",
       "      <td>good</td>\n",
       "      <td>quad</td>\n",
       "      <td>linear</td>\n",
       "    </tr>\n",
       "    <tr>\n",
       "      <th>13</th>\n",
       "      <td>0.024613</td>\n",
       "      <td>0.015713</td>\n",
       "      <td>0.012999</td>\n",
       "      <td>0.024290</td>\n",
       "      <td>0.021710</td>\n",
       "      <td>good</td>\n",
       "      <td>quad</td>\n",
       "      <td>quad</td>\n",
       "    </tr>\n",
       "    <tr>\n",
       "      <th>14</th>\n",
       "      <td>39.770552</td>\n",
       "      <td>6.871385</td>\n",
       "      <td>10.931066</td>\n",
       "      <td>11.787483</td>\n",
       "      <td>21.448597</td>\n",
       "      <td>good</td>\n",
       "      <td>quad</td>\n",
       "      <td>nl</td>\n",
       "    </tr>\n",
       "    <tr>\n",
       "      <th>15</th>\n",
       "      <td>0.023351</td>\n",
       "      <td>0.012674</td>\n",
       "      <td>0.012548</td>\n",
       "      <td>0.021288</td>\n",
       "      <td>0.023815</td>\n",
       "      <td>good</td>\n",
       "      <td>trig</td>\n",
       "      <td>linear</td>\n",
       "    </tr>\n",
       "    <tr>\n",
       "      <th>16</th>\n",
       "      <td>0.023003</td>\n",
       "      <td>0.011302</td>\n",
       "      <td>0.011700</td>\n",
       "      <td>0.024149</td>\n",
       "      <td>0.021303</td>\n",
       "      <td>good</td>\n",
       "      <td>trig</td>\n",
       "      <td>quad</td>\n",
       "    </tr>\n",
       "    <tr>\n",
       "      <th>17</th>\n",
       "      <td>15.793163</td>\n",
       "      <td>9.376342</td>\n",
       "      <td>34.365925</td>\n",
       "      <td>117.553122</td>\n",
       "      <td>96.587721</td>\n",
       "      <td>good</td>\n",
       "      <td>trig</td>\n",
       "      <td>nl</td>\n",
       "    </tr>\n",
       "    <tr>\n",
       "      <th>18</th>\n",
       "      <td>0.048122</td>\n",
       "      <td>0.043947</td>\n",
       "      <td>0.023719</td>\n",
       "      <td>0.047613</td>\n",
       "      <td>0.051136</td>\n",
       "      <td>medium</td>\n",
       "      <td>linear</td>\n",
       "      <td>linear</td>\n",
       "    </tr>\n",
       "    <tr>\n",
       "      <th>19</th>\n",
       "      <td>0.053600</td>\n",
       "      <td>0.051293</td>\n",
       "      <td>0.028237</td>\n",
       "      <td>0.053233</td>\n",
       "      <td>0.055523</td>\n",
       "      <td>medium</td>\n",
       "      <td>linear</td>\n",
       "      <td>quad</td>\n",
       "    </tr>\n",
       "    <tr>\n",
       "      <th>20</th>\n",
       "      <td>173.105726</td>\n",
       "      <td>18.259983</td>\n",
       "      <td>520.213019</td>\n",
       "      <td>37.653427</td>\n",
       "      <td>34.654800</td>\n",
       "      <td>medium</td>\n",
       "      <td>linear</td>\n",
       "      <td>nl</td>\n",
       "    </tr>\n",
       "    <tr>\n",
       "      <th>21</th>\n",
       "      <td>0.049125</td>\n",
       "      <td>0.050405</td>\n",
       "      <td>0.032426</td>\n",
       "      <td>0.050682</td>\n",
       "      <td>0.049895</td>\n",
       "      <td>medium</td>\n",
       "      <td>quad</td>\n",
       "      <td>linear</td>\n",
       "    </tr>\n",
       "    <tr>\n",
       "      <th>22</th>\n",
       "      <td>0.035827</td>\n",
       "      <td>0.037805</td>\n",
       "      <td>0.022321</td>\n",
       "      <td>0.034588</td>\n",
       "      <td>0.034128</td>\n",
       "      <td>medium</td>\n",
       "      <td>quad</td>\n",
       "      <td>quad</td>\n",
       "    </tr>\n",
       "    <tr>\n",
       "      <th>23</th>\n",
       "      <td>15.549190</td>\n",
       "      <td>126.124946</td>\n",
       "      <td>86.033738</td>\n",
       "      <td>15.281756</td>\n",
       "      <td>33.990434</td>\n",
       "      <td>medium</td>\n",
       "      <td>quad</td>\n",
       "      <td>nl</td>\n",
       "    </tr>\n",
       "    <tr>\n",
       "      <th>24</th>\n",
       "      <td>0.022321</td>\n",
       "      <td>0.012473</td>\n",
       "      <td>0.013456</td>\n",
       "      <td>0.024557</td>\n",
       "      <td>0.023678</td>\n",
       "      <td>medium</td>\n",
       "      <td>trig</td>\n",
       "      <td>linear</td>\n",
       "    </tr>\n",
       "    <tr>\n",
       "      <th>25</th>\n",
       "      <td>0.022422</td>\n",
       "      <td>0.011804</td>\n",
       "      <td>0.010725</td>\n",
       "      <td>0.022024</td>\n",
       "      <td>0.024792</td>\n",
       "      <td>medium</td>\n",
       "      <td>trig</td>\n",
       "      <td>quad</td>\n",
       "    </tr>\n",
       "    <tr>\n",
       "      <th>26</th>\n",
       "      <td>12.984933</td>\n",
       "      <td>78.367840</td>\n",
       "      <td>10.115660</td>\n",
       "      <td>62.949151</td>\n",
       "      <td>17741.923406</td>\n",
       "      <td>medium</td>\n",
       "      <td>trig</td>\n",
       "      <td>nl</td>\n",
       "    </tr>\n",
       "  </tbody>\n",
       "</table>\n",
       "</div>"
      ],
      "text/plain": [
       "           ipw      linear      kernel   automatic   constrained  \\\n",
       "0     0.068541    0.072096    0.035293    0.069347      0.066208   \n",
       "1     0.065166    0.067032    0.034373    0.060328      0.066015   \n",
       "2    13.757359  244.357287    8.889775   13.788107     31.737481   \n",
       "3     0.054535    0.058653    0.034903    0.050918      0.055132   \n",
       "4     0.038028    0.037660    0.021047    0.034115      0.037029   \n",
       "5    10.769637   18.661587   26.108551   16.527473     61.495745   \n",
       "6     0.024235    0.013379    0.009697    0.023839      0.025364   \n",
       "7     0.024825    0.013214    0.011292    0.024514      0.022038   \n",
       "8    13.712767   29.897234    6.162583  257.859393     24.983811   \n",
       "9     0.035194    0.023804    0.017070    0.035736      0.033273   \n",
       "10    0.030257    0.025813    0.015421    0.024407      0.029188   \n",
       "11   30.935014   12.271694  247.731037  145.926978    129.896145   \n",
       "12    0.033868    0.025650    0.021227    0.035910      0.032039   \n",
       "13    0.024613    0.015713    0.012999    0.024290      0.021710   \n",
       "14   39.770552    6.871385   10.931066   11.787483     21.448597   \n",
       "15    0.023351    0.012674    0.012548    0.021288      0.023815   \n",
       "16    0.023003    0.011302    0.011700    0.024149      0.021303   \n",
       "17   15.793163    9.376342   34.365925  117.553122     96.587721   \n",
       "18    0.048122    0.043947    0.023719    0.047613      0.051136   \n",
       "19    0.053600    0.051293    0.028237    0.053233      0.055523   \n",
       "20  173.105726   18.259983  520.213019   37.653427     34.654800   \n",
       "21    0.049125    0.050405    0.032426    0.050682      0.049895   \n",
       "22    0.035827    0.037805    0.022321    0.034588      0.034128   \n",
       "23   15.549190  126.124946   86.033738   15.281756     33.990434   \n",
       "24    0.022321    0.012473    0.013456    0.024557      0.023678   \n",
       "25    0.022422    0.011804    0.010725    0.022024      0.024792   \n",
       "26   12.984933   78.367840   10.115660   62.949151  17741.923406   \n",
       "\n",
       "   overlap_design pscore_design outcome_design  \n",
       "0            poor        linear         linear  \n",
       "1            poor        linear           quad  \n",
       "2            poor        linear             nl  \n",
       "3            poor          quad         linear  \n",
       "4            poor          quad           quad  \n",
       "5            poor          quad             nl  \n",
       "6            poor          trig         linear  \n",
       "7            poor          trig           quad  \n",
       "8            poor          trig             nl  \n",
       "9            good        linear         linear  \n",
       "10           good        linear           quad  \n",
       "11           good        linear             nl  \n",
       "12           good          quad         linear  \n",
       "13           good          quad           quad  \n",
       "14           good          quad             nl  \n",
       "15           good          trig         linear  \n",
       "16           good          trig           quad  \n",
       "17           good          trig             nl  \n",
       "18         medium        linear         linear  \n",
       "19         medium        linear           quad  \n",
       "20         medium        linear             nl  \n",
       "21         medium          quad         linear  \n",
       "22         medium          quad           quad  \n",
       "23         medium          quad             nl  \n",
       "24         medium          trig         linear  \n",
       "25         medium          trig           quad  \n",
       "26         medium          trig             nl  "
      ]
     },
     "execution_count": 30,
     "metadata": {},
     "output_type": "execute_result"
    }
   ],
   "source": [
    "import pandas as pd\n",
    "res_df = pd.DataFrame(\n",
    "[\n",
    "  list(product(['poor', 'good', 'medium'],\n",
    "               ['linear', 'quad', 'trig'],\n",
    "               ['linear', 'quad', 'nl'])),\n",
    "  [v for k, v in res_dict.items() if k.endswith(\"ipw\")],\n",
    "  [v for k, v in res_dict.items() if k.endswith(\"linear\")],\n",
    "  [v for k, v in res_dict.items() if k.endswith(\"kernel\")],\n",
    "  [v for k, v in res_dict.items() if k.endswith(\"automatic\")],\n",
    "  [v for k, v in res_dict.items() if k.endswith(\"balancing\")],\n",
    "],\n",
    ").T.infer_objects()\n",
    "res_df.columns = [\"design\", \"ipw\", \"linear\", \"kernel\", \"automatic\", \"constrained\"]\n",
    "# unpack design column\n",
    "res_df['overlap_design'] = res_df['design'].apply(lambda x: x[0])\n",
    "res_df['pscore_design'] = res_df['design'].apply(lambda x: x[1])\n",
    "res_df['outcome_design'] = res_df['design'].apply(lambda x: x[2])\n",
    "res_df.drop(columns=['design'], inplace=True)\n",
    "\n",
    "res_df"
   ]
  }
 ],
 "metadata": {
  "kernelspec": {
   "display_name": "py311",
   "language": "python",
   "name": "python3"
  },
  "language_info": {
   "codemirror_mode": {
    "name": "ipython",
    "version": 3
   },
   "file_extension": ".py",
   "mimetype": "text/x-python",
   "name": "python",
   "nbconvert_exporter": "python",
   "pygments_lexer": "ipython3",
   "version": "3.10.14"
  }
 },
 "nbformat": 4,
 "nbformat_minor": 4
}
